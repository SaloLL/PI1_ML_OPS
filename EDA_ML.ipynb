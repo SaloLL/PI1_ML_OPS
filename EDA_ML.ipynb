{
 "cells": [
  {
   "cell_type": "markdown",
   "metadata": {},
   "source": [
    "## EDA FOR MACHINE LEARNING"
   ]
  },
  {
   "cell_type": "markdown",
   "metadata": {},
   "source": [
    "### Import Libraries"
   ]
  },
  {
   "cell_type": "code",
   "execution_count": 334,
   "metadata": {},
   "outputs": [],
   "source": [
    "import pandas as pd\n",
    "import time\n",
    "import string\n",
    "import matplotlib.pyplot as plt"
   ]
  },
  {
   "cell_type": "markdown",
   "metadata": {},
   "source": [
    "### EDA STEAM GAMES"
   ]
  },
  {
   "cell_type": "code",
   "execution_count": 335,
   "metadata": {},
   "outputs": [
    {
     "data": {
      "text/html": [
       "<div>\n",
       "<style scoped>\n",
       "    .dataframe tbody tr th:only-of-type {\n",
       "        vertical-align: middle;\n",
       "    }\n",
       "\n",
       "    .dataframe tbody tr th {\n",
       "        vertical-align: top;\n",
       "    }\n",
       "\n",
       "    .dataframe thead th {\n",
       "        text-align: right;\n",
       "    }\n",
       "</style>\n",
       "<table border=\"1\" class=\"dataframe\">\n",
       "  <thead>\n",
       "    <tr style=\"text-align: right;\">\n",
       "      <th></th>\n",
       "      <th>Id</th>\n",
       "      <th>App_Name</th>\n",
       "      <th>Price</th>\n",
       "      <th>Release_Year</th>\n",
       "      <th>Release_Date</th>\n",
       "      <th>Genres</th>\n",
       "      <th>Early_Access</th>\n",
       "      <th>Specs</th>\n",
       "      <th>Developer</th>\n",
       "      <th>Publisher</th>\n",
       "    </tr>\n",
       "  </thead>\n",
       "  <tbody>\n",
       "    <tr>\n",
       "      <th>88310</th>\n",
       "      <td>761140</td>\n",
       "      <td>Lost Summoner Kitty</td>\n",
       "      <td>4.99</td>\n",
       "      <td>2018</td>\n",
       "      <td>2018-04-01</td>\n",
       "      <td>Action,  Casual,  Indie,  Simulation,  Strategy</td>\n",
       "      <td>False</td>\n",
       "      <td>Single-player</td>\n",
       "      <td>Kotoshiro</td>\n",
       "      <td>Kotoshiro</td>\n",
       "    </tr>\n",
       "  </tbody>\n",
       "</table>\n",
       "</div>"
      ],
      "text/plain": [
       "           Id             App_Name  Price  Release_Year Release_Date  \\\n",
       "88310  761140  Lost Summoner Kitty   4.99          2018   2018-04-01   \n",
       "\n",
       "                                                Genres  Early_Access  \\\n",
       "88310  Action,  Casual,  Indie,  Simulation,  Strategy         False   \n",
       "\n",
       "               Specs  Developer  Publisher  \n",
       "88310  Single-player  Kotoshiro  Kotoshiro  "
      ]
     },
     "execution_count": 335,
     "metadata": {},
     "output_type": "execute_result"
    }
   ],
   "source": [
    "df_steam_games = pd.read_parquet('GZIP/df_steam_games.gzip')\n",
    "df_steam_games.head(1)"
   ]
  },
  {
   "cell_type": "code",
   "execution_count": 336,
   "metadata": {},
   "outputs": [
    {
     "name": "stdout",
     "output_type": "stream",
     "text": [
      "Empty DataFrame\n",
      "Columns: [Id, App_Name, Price, Release_Year, Release_Date, Genres, Early_Access, Specs, Developer, Publisher]\n",
      "Index: []\n",
      "Empty DataFrame\n",
      "Columns: [Id, App_Name, Price, Release_Year, Release_Date, Genres, Early_Access, Specs, Developer, Publisher]\n",
      "Index: []\n"
     ]
    }
   ],
   "source": [
    "# Check if there's any Nan value in any column\n",
    "rows_with_nan = df_steam_games[df_steam_games.isna().any(axis=1)]\n",
    "print(rows_with_nan)\n",
    "# Check duplicated rows\n",
    "duplicated_rows = df_steam_games[df_steam_games.duplicated()]\n",
    "print(duplicated_rows)"
   ]
  },
  {
   "cell_type": "code",
   "execution_count": 337,
   "metadata": {},
   "outputs": [],
   "source": [
    "# Explode genres to get each single genre\n",
    "df_steam_games['Genres'] = df_steam_games['Genres'].str.split(',')\n",
    "df_steam_games = df_steam_games.explode('Genres')"
   ]
  },
  {
   "cell_type": "code",
   "execution_count": 338,
   "metadata": {},
   "outputs": [
    {
     "data": {
      "text/plain": [
       "array(['Action', '  Casual', '  Indie', '  Simulation', '  Strategy',\n",
       "       'Free to Play', '  RPG', '  Adventure', '  Sports', 'Casual',\n",
       "       'Adventure', 'Strategy', 'Racing', 'RPG', 'nan', 'Simulation',\n",
       "       'Indie', '  Racing', '  Free to Play', '  Massively Multiplayer',\n",
       "       'Animation &amp; Modeling', '  Web Publishing',\n",
       "       'Design &amp; Illustration', '  Early Access', '  Education',\n",
       "       '  Utilities', '  Design &amp; Illustration', 'Sports',\n",
       "       '  Software Training', 'Utilities', '  Video Production',\n",
       "       '  Photo Editing', 'Education', 'Photo Editing',\n",
       "       'Massively Multiplayer', 'Audio Production', '  Audio Production',\n",
       "       '  Animation &amp; Modeling', 'Early Access', 'Video Production',\n",
       "       '  Action'], dtype=object)"
      ]
     },
     "execution_count": 338,
     "metadata": {},
     "output_type": "execute_result"
    }
   ],
   "source": [
    "# We see that we got leading spaces in some Genres ('  Casual'), we'll clear\n",
    "# that.\n",
    "unique_genres = df_steam_games['Genres'].unique()\n",
    "unique_genres"
   ]
  },
  {
   "cell_type": "code",
   "execution_count": 339,
   "metadata": {},
   "outputs": [
    {
     "data": {
      "text/html": [
       "<div>\n",
       "<style scoped>\n",
       "    .dataframe tbody tr th:only-of-type {\n",
       "        vertical-align: middle;\n",
       "    }\n",
       "\n",
       "    .dataframe tbody tr th {\n",
       "        vertical-align: top;\n",
       "    }\n",
       "\n",
       "    .dataframe thead th {\n",
       "        text-align: right;\n",
       "    }\n",
       "</style>\n",
       "<table border=\"1\" class=\"dataframe\">\n",
       "  <thead>\n",
       "    <tr style=\"text-align: right;\">\n",
       "      <th></th>\n",
       "      <th>Id</th>\n",
       "      <th>App_Name</th>\n",
       "      <th>Price</th>\n",
       "      <th>Release_Year</th>\n",
       "      <th>Release_Date</th>\n",
       "      <th>Genres</th>\n",
       "      <th>Early_Access</th>\n",
       "      <th>Specs</th>\n",
       "      <th>Developer</th>\n",
       "      <th>Publisher</th>\n",
       "    </tr>\n",
       "  </thead>\n",
       "  <tbody>\n",
       "    <tr>\n",
       "      <th>88310</th>\n",
       "      <td>761140</td>\n",
       "      <td>Lost Summoner Kitty</td>\n",
       "      <td>4.99</td>\n",
       "      <td>2018</td>\n",
       "      <td>2018-04-01</td>\n",
       "      <td>action</td>\n",
       "      <td>False</td>\n",
       "      <td>Single-player</td>\n",
       "      <td>Kotoshiro</td>\n",
       "      <td>Kotoshiro</td>\n",
       "    </tr>\n",
       "    <tr>\n",
       "      <th>88310</th>\n",
       "      <td>761140</td>\n",
       "      <td>Lost Summoner Kitty</td>\n",
       "      <td>4.99</td>\n",
       "      <td>2018</td>\n",
       "      <td>2018-04-01</td>\n",
       "      <td>casual</td>\n",
       "      <td>False</td>\n",
       "      <td>Single-player</td>\n",
       "      <td>Kotoshiro</td>\n",
       "      <td>Kotoshiro</td>\n",
       "    </tr>\n",
       "    <tr>\n",
       "      <th>88310</th>\n",
       "      <td>761140</td>\n",
       "      <td>Lost Summoner Kitty</td>\n",
       "      <td>4.99</td>\n",
       "      <td>2018</td>\n",
       "      <td>2018-04-01</td>\n",
       "      <td>indie</td>\n",
       "      <td>False</td>\n",
       "      <td>Single-player</td>\n",
       "      <td>Kotoshiro</td>\n",
       "      <td>Kotoshiro</td>\n",
       "    </tr>\n",
       "    <tr>\n",
       "      <th>88310</th>\n",
       "      <td>761140</td>\n",
       "      <td>Lost Summoner Kitty</td>\n",
       "      <td>4.99</td>\n",
       "      <td>2018</td>\n",
       "      <td>2018-04-01</td>\n",
       "      <td>simulation</td>\n",
       "      <td>False</td>\n",
       "      <td>Single-player</td>\n",
       "      <td>Kotoshiro</td>\n",
       "      <td>Kotoshiro</td>\n",
       "    </tr>\n",
       "    <tr>\n",
       "      <th>88310</th>\n",
       "      <td>761140</td>\n",
       "      <td>Lost Summoner Kitty</td>\n",
       "      <td>4.99</td>\n",
       "      <td>2018</td>\n",
       "      <td>2018-04-01</td>\n",
       "      <td>strategy</td>\n",
       "      <td>False</td>\n",
       "      <td>Single-player</td>\n",
       "      <td>Kotoshiro</td>\n",
       "      <td>Kotoshiro</td>\n",
       "    </tr>\n",
       "    <tr>\n",
       "      <th>...</th>\n",
       "      <td>...</td>\n",
       "      <td>...</td>\n",
       "      <td>...</td>\n",
       "      <td>...</td>\n",
       "      <td>...</td>\n",
       "      <td>...</td>\n",
       "      <td>...</td>\n",
       "      <td>...</td>\n",
       "      <td>...</td>\n",
       "      <td>...</td>\n",
       "    </tr>\n",
       "    <tr>\n",
       "      <th>120442</th>\n",
       "      <td>610660</td>\n",
       "      <td>Russian Roads</td>\n",
       "      <td>1.99</td>\n",
       "      <td>2018</td>\n",
       "      <td>2018-04-01</td>\n",
       "      <td>indie</td>\n",
       "      <td>False</td>\n",
       "      <td>Single-player, Steam Achievements, Steam Tradi...</td>\n",
       "      <td>Laush Dmitriy Sergeevich</td>\n",
       "      <td>Laush Studio</td>\n",
       "    </tr>\n",
       "    <tr>\n",
       "      <th>120442</th>\n",
       "      <td>610660</td>\n",
       "      <td>Russian Roads</td>\n",
       "      <td>1.99</td>\n",
       "      <td>2018</td>\n",
       "      <td>2018-04-01</td>\n",
       "      <td>racing</td>\n",
       "      <td>False</td>\n",
       "      <td>Single-player, Steam Achievements, Steam Tradi...</td>\n",
       "      <td>Laush Dmitriy Sergeevich</td>\n",
       "      <td>Laush Studio</td>\n",
       "    </tr>\n",
       "    <tr>\n",
       "      <th>120442</th>\n",
       "      <td>610660</td>\n",
       "      <td>Russian Roads</td>\n",
       "      <td>1.99</td>\n",
       "      <td>2018</td>\n",
       "      <td>2018-04-01</td>\n",
       "      <td>simulation</td>\n",
       "      <td>False</td>\n",
       "      <td>Single-player, Steam Achievements, Steam Tradi...</td>\n",
       "      <td>Laush Dmitriy Sergeevich</td>\n",
       "      <td>Laush Studio</td>\n",
       "    </tr>\n",
       "    <tr>\n",
       "      <th>120443</th>\n",
       "      <td>658870</td>\n",
       "      <td>Exit Directions</td>\n",
       "      <td>4.99</td>\n",
       "      <td>2017</td>\n",
       "      <td>2017-02-09</td>\n",
       "      <td>casual</td>\n",
       "      <td>False</td>\n",
       "      <td>Single-player, Steam Achievements, Steam Cloud</td>\n",
       "      <td>Xropistevns</td>\n",
       "      <td>Sixnails</td>\n",
       "    </tr>\n",
       "    <tr>\n",
       "      <th>120443</th>\n",
       "      <td>658870</td>\n",
       "      <td>Exit Directions</td>\n",
       "      <td>4.99</td>\n",
       "      <td>2017</td>\n",
       "      <td>2017-02-09</td>\n",
       "      <td>indie</td>\n",
       "      <td>False</td>\n",
       "      <td>Single-player, Steam Achievements, Steam Cloud</td>\n",
       "      <td>Xropistevns</td>\n",
       "      <td>Sixnails</td>\n",
       "    </tr>\n",
       "  </tbody>\n",
       "</table>\n",
       "<p>25708 rows × 10 columns</p>\n",
       "</div>"
      ],
      "text/plain": [
       "            Id             App_Name  Price  Release_Year Release_Date  \\\n",
       "88310   761140  Lost Summoner Kitty   4.99          2018   2018-04-01   \n",
       "88310   761140  Lost Summoner Kitty   4.99          2018   2018-04-01   \n",
       "88310   761140  Lost Summoner Kitty   4.99          2018   2018-04-01   \n",
       "88310   761140  Lost Summoner Kitty   4.99          2018   2018-04-01   \n",
       "88310   761140  Lost Summoner Kitty   4.99          2018   2018-04-01   \n",
       "...        ...                  ...    ...           ...          ...   \n",
       "120442  610660        Russian Roads   1.99          2018   2018-04-01   \n",
       "120442  610660        Russian Roads   1.99          2018   2018-04-01   \n",
       "120442  610660        Russian Roads   1.99          2018   2018-04-01   \n",
       "120443  658870      Exit Directions   4.99          2017   2017-02-09   \n",
       "120443  658870      Exit Directions   4.99          2017   2017-02-09   \n",
       "\n",
       "            Genres  Early_Access  \\\n",
       "88310       action         False   \n",
       "88310       casual         False   \n",
       "88310        indie         False   \n",
       "88310   simulation         False   \n",
       "88310     strategy         False   \n",
       "...            ...           ...   \n",
       "120442       indie         False   \n",
       "120442      racing         False   \n",
       "120442  simulation         False   \n",
       "120443      casual         False   \n",
       "120443       indie         False   \n",
       "\n",
       "                                                    Specs  \\\n",
       "88310                                       Single-player   \n",
       "88310                                       Single-player   \n",
       "88310                                       Single-player   \n",
       "88310                                       Single-player   \n",
       "88310                                       Single-player   \n",
       "...                                                   ...   \n",
       "120442  Single-player, Steam Achievements, Steam Tradi...   \n",
       "120442  Single-player, Steam Achievements, Steam Tradi...   \n",
       "120442  Single-player, Steam Achievements, Steam Tradi...   \n",
       "120443     Single-player, Steam Achievements, Steam Cloud   \n",
       "120443     Single-player, Steam Achievements, Steam Cloud   \n",
       "\n",
       "                       Developer     Publisher  \n",
       "88310                  Kotoshiro     Kotoshiro  \n",
       "88310                  Kotoshiro     Kotoshiro  \n",
       "88310                  Kotoshiro     Kotoshiro  \n",
       "88310                  Kotoshiro     Kotoshiro  \n",
       "88310                  Kotoshiro     Kotoshiro  \n",
       "...                          ...           ...  \n",
       "120442  Laush Dmitriy Sergeevich  Laush Studio  \n",
       "120442  Laush Dmitriy Sergeevich  Laush Studio  \n",
       "120442  Laush Dmitriy Sergeevich  Laush Studio  \n",
       "120443               Xropistevns      Sixnails  \n",
       "120443               Xropistevns      Sixnails  \n",
       "\n",
       "[25708 rows x 10 columns]"
      ]
     },
     "execution_count": 339,
     "metadata": {},
     "output_type": "execute_result"
    }
   ],
   "source": [
    "# Remove leading whitespaces and convert to lowercase\n",
    "df_steam_games['Genres'] = df_steam_games['Genres'].str.strip().str.lower()\n",
    "df_steam_games"
   ]
  },
  {
   "cell_type": "code",
   "execution_count": 340,
   "metadata": {},
   "outputs": [
    {
     "data": {
      "text/html": [
       "<div>\n",
       "<style scoped>\n",
       "    .dataframe tbody tr th:only-of-type {\n",
       "        vertical-align: middle;\n",
       "    }\n",
       "\n",
       "    .dataframe tbody tr th {\n",
       "        vertical-align: top;\n",
       "    }\n",
       "\n",
       "    .dataframe thead th {\n",
       "        text-align: right;\n",
       "    }\n",
       "</style>\n",
       "<table border=\"1\" class=\"dataframe\">\n",
       "  <thead>\n",
       "    <tr style=\"text-align: right;\">\n",
       "      <th></th>\n",
       "      <th>Id</th>\n",
       "      <th>App_Name</th>\n",
       "      <th>Price</th>\n",
       "      <th>Release_Year</th>\n",
       "      <th>Release_Date</th>\n",
       "      <th>Genres</th>\n",
       "      <th>Early_Access</th>\n",
       "      <th>Specs</th>\n",
       "      <th>Developer</th>\n",
       "      <th>Publisher</th>\n",
       "    </tr>\n",
       "  </thead>\n",
       "  <tbody>\n",
       "    <tr>\n",
       "      <th>88310</th>\n",
       "      <td>761140</td>\n",
       "      <td>Lost Summoner Kitty</td>\n",
       "      <td>4.99</td>\n",
       "      <td>2018</td>\n",
       "      <td>2018-04-01</td>\n",
       "      <td>action</td>\n",
       "      <td>False</td>\n",
       "      <td>Single-player</td>\n",
       "      <td>Kotoshiro</td>\n",
       "      <td>Kotoshiro</td>\n",
       "    </tr>\n",
       "    <tr>\n",
       "      <th>88310</th>\n",
       "      <td>761140</td>\n",
       "      <td>Lost Summoner Kitty</td>\n",
       "      <td>4.99</td>\n",
       "      <td>2018</td>\n",
       "      <td>2018-04-01</td>\n",
       "      <td>casual</td>\n",
       "      <td>False</td>\n",
       "      <td>Single-player</td>\n",
       "      <td>Kotoshiro</td>\n",
       "      <td>Kotoshiro</td>\n",
       "    </tr>\n",
       "    <tr>\n",
       "      <th>88310</th>\n",
       "      <td>761140</td>\n",
       "      <td>Lost Summoner Kitty</td>\n",
       "      <td>4.99</td>\n",
       "      <td>2018</td>\n",
       "      <td>2018-04-01</td>\n",
       "      <td>indie</td>\n",
       "      <td>False</td>\n",
       "      <td>Single-player</td>\n",
       "      <td>Kotoshiro</td>\n",
       "      <td>Kotoshiro</td>\n",
       "    </tr>\n",
       "    <tr>\n",
       "      <th>88310</th>\n",
       "      <td>761140</td>\n",
       "      <td>Lost Summoner Kitty</td>\n",
       "      <td>4.99</td>\n",
       "      <td>2018</td>\n",
       "      <td>2018-04-01</td>\n",
       "      <td>simulation</td>\n",
       "      <td>False</td>\n",
       "      <td>Single-player</td>\n",
       "      <td>Kotoshiro</td>\n",
       "      <td>Kotoshiro</td>\n",
       "    </tr>\n",
       "    <tr>\n",
       "      <th>88310</th>\n",
       "      <td>761140</td>\n",
       "      <td>Lost Summoner Kitty</td>\n",
       "      <td>4.99</td>\n",
       "      <td>2018</td>\n",
       "      <td>2018-04-01</td>\n",
       "      <td>strategy</td>\n",
       "      <td>False</td>\n",
       "      <td>Single-player</td>\n",
       "      <td>Kotoshiro</td>\n",
       "      <td>Kotoshiro</td>\n",
       "    </tr>\n",
       "    <tr>\n",
       "      <th>...</th>\n",
       "      <td>...</td>\n",
       "      <td>...</td>\n",
       "      <td>...</td>\n",
       "      <td>...</td>\n",
       "      <td>...</td>\n",
       "      <td>...</td>\n",
       "      <td>...</td>\n",
       "      <td>...</td>\n",
       "      <td>...</td>\n",
       "      <td>...</td>\n",
       "    </tr>\n",
       "    <tr>\n",
       "      <th>120442</th>\n",
       "      <td>610660</td>\n",
       "      <td>Russian Roads</td>\n",
       "      <td>1.99</td>\n",
       "      <td>2018</td>\n",
       "      <td>2018-04-01</td>\n",
       "      <td>indie</td>\n",
       "      <td>False</td>\n",
       "      <td>Single-player, Steam Achievements, Steam Tradi...</td>\n",
       "      <td>Laush Dmitriy Sergeevich</td>\n",
       "      <td>Laush Studio</td>\n",
       "    </tr>\n",
       "    <tr>\n",
       "      <th>120442</th>\n",
       "      <td>610660</td>\n",
       "      <td>Russian Roads</td>\n",
       "      <td>1.99</td>\n",
       "      <td>2018</td>\n",
       "      <td>2018-04-01</td>\n",
       "      <td>racing</td>\n",
       "      <td>False</td>\n",
       "      <td>Single-player, Steam Achievements, Steam Tradi...</td>\n",
       "      <td>Laush Dmitriy Sergeevich</td>\n",
       "      <td>Laush Studio</td>\n",
       "    </tr>\n",
       "    <tr>\n",
       "      <th>120442</th>\n",
       "      <td>610660</td>\n",
       "      <td>Russian Roads</td>\n",
       "      <td>1.99</td>\n",
       "      <td>2018</td>\n",
       "      <td>2018-04-01</td>\n",
       "      <td>simulation</td>\n",
       "      <td>False</td>\n",
       "      <td>Single-player, Steam Achievements, Steam Tradi...</td>\n",
       "      <td>Laush Dmitriy Sergeevich</td>\n",
       "      <td>Laush Studio</td>\n",
       "    </tr>\n",
       "    <tr>\n",
       "      <th>120443</th>\n",
       "      <td>658870</td>\n",
       "      <td>Exit Directions</td>\n",
       "      <td>4.99</td>\n",
       "      <td>2017</td>\n",
       "      <td>2017-02-09</td>\n",
       "      <td>casual</td>\n",
       "      <td>False</td>\n",
       "      <td>Single-player, Steam Achievements, Steam Cloud</td>\n",
       "      <td>Xropistevns</td>\n",
       "      <td>Sixnails</td>\n",
       "    </tr>\n",
       "    <tr>\n",
       "      <th>120443</th>\n",
       "      <td>658870</td>\n",
       "      <td>Exit Directions</td>\n",
       "      <td>4.99</td>\n",
       "      <td>2017</td>\n",
       "      <td>2017-02-09</td>\n",
       "      <td>indie</td>\n",
       "      <td>False</td>\n",
       "      <td>Single-player, Steam Achievements, Steam Cloud</td>\n",
       "      <td>Xropistevns</td>\n",
       "      <td>Sixnails</td>\n",
       "    </tr>\n",
       "  </tbody>\n",
       "</table>\n",
       "<p>25671 rows × 10 columns</p>\n",
       "</div>"
      ],
      "text/plain": [
       "            Id             App_Name  Price  Release_Year Release_Date  \\\n",
       "88310   761140  Lost Summoner Kitty   4.99          2018   2018-04-01   \n",
       "88310   761140  Lost Summoner Kitty   4.99          2018   2018-04-01   \n",
       "88310   761140  Lost Summoner Kitty   4.99          2018   2018-04-01   \n",
       "88310   761140  Lost Summoner Kitty   4.99          2018   2018-04-01   \n",
       "88310   761140  Lost Summoner Kitty   4.99          2018   2018-04-01   \n",
       "...        ...                  ...    ...           ...          ...   \n",
       "120442  610660        Russian Roads   1.99          2018   2018-04-01   \n",
       "120442  610660        Russian Roads   1.99          2018   2018-04-01   \n",
       "120442  610660        Russian Roads   1.99          2018   2018-04-01   \n",
       "120443  658870      Exit Directions   4.99          2017   2017-02-09   \n",
       "120443  658870      Exit Directions   4.99          2017   2017-02-09   \n",
       "\n",
       "            Genres  Early_Access  \\\n",
       "88310       action         False   \n",
       "88310       casual         False   \n",
       "88310        indie         False   \n",
       "88310   simulation         False   \n",
       "88310     strategy         False   \n",
       "...            ...           ...   \n",
       "120442       indie         False   \n",
       "120442      racing         False   \n",
       "120442  simulation         False   \n",
       "120443      casual         False   \n",
       "120443       indie         False   \n",
       "\n",
       "                                                    Specs  \\\n",
       "88310                                       Single-player   \n",
       "88310                                       Single-player   \n",
       "88310                                       Single-player   \n",
       "88310                                       Single-player   \n",
       "88310                                       Single-player   \n",
       "...                                                   ...   \n",
       "120442  Single-player, Steam Achievements, Steam Tradi...   \n",
       "120442  Single-player, Steam Achievements, Steam Tradi...   \n",
       "120442  Single-player, Steam Achievements, Steam Tradi...   \n",
       "120443     Single-player, Steam Achievements, Steam Cloud   \n",
       "120443     Single-player, Steam Achievements, Steam Cloud   \n",
       "\n",
       "                       Developer     Publisher  \n",
       "88310                  Kotoshiro     Kotoshiro  \n",
       "88310                  Kotoshiro     Kotoshiro  \n",
       "88310                  Kotoshiro     Kotoshiro  \n",
       "88310                  Kotoshiro     Kotoshiro  \n",
       "88310                  Kotoshiro     Kotoshiro  \n",
       "...                          ...           ...  \n",
       "120442  Laush Dmitriy Sergeevich  Laush Studio  \n",
       "120442  Laush Dmitriy Sergeevich  Laush Studio  \n",
       "120442  Laush Dmitriy Sergeevich  Laush Studio  \n",
       "120443               Xropistevns      Sixnails  \n",
       "120443               Xropistevns      Sixnails  \n",
       "\n",
       "[25671 rows x 10 columns]"
      ]
     },
     "execution_count": 340,
     "metadata": {},
     "output_type": "execute_result"
    }
   ],
   "source": [
    "# Remove rows with 'nan' in the Genres column\n",
    "df_steam_games = df_steam_games[df_steam_games['Genres'] != 'nan']\n",
    "# Display the modified dataframe\n",
    "df_steam_games"
   ]
  },
  {
   "cell_type": "code",
   "execution_count": 341,
   "metadata": {},
   "outputs": [
    {
     "data": {
      "text/html": [
       "<div>\n",
       "<style scoped>\n",
       "    .dataframe tbody tr th:only-of-type {\n",
       "        vertical-align: middle;\n",
       "    }\n",
       "\n",
       "    .dataframe tbody tr th {\n",
       "        vertical-align: top;\n",
       "    }\n",
       "\n",
       "    .dataframe thead th {\n",
       "        text-align: right;\n",
       "    }\n",
       "</style>\n",
       "<table border=\"1\" class=\"dataframe\">\n",
       "  <thead>\n",
       "    <tr style=\"text-align: right;\">\n",
       "      <th></th>\n",
       "      <th>Id</th>\n",
       "      <th>App_Name</th>\n",
       "      <th>Price</th>\n",
       "      <th>Release_Year</th>\n",
       "      <th>Release_Date</th>\n",
       "      <th>Genres</th>\n",
       "      <th>Early_Access</th>\n",
       "      <th>Specs</th>\n",
       "      <th>Developer</th>\n",
       "      <th>Publisher</th>\n",
       "    </tr>\n",
       "  </thead>\n",
       "  <tbody>\n",
       "    <tr>\n",
       "      <th>88310</th>\n",
       "      <td>761140</td>\n",
       "      <td>Lost Summoner Kitty</td>\n",
       "      <td>4.99</td>\n",
       "      <td>2018</td>\n",
       "      <td>2018-04-01</td>\n",
       "      <td>action</td>\n",
       "      <td>False</td>\n",
       "      <td>single-player</td>\n",
       "      <td>Kotoshiro</td>\n",
       "      <td>Kotoshiro</td>\n",
       "    </tr>\n",
       "  </tbody>\n",
       "</table>\n",
       "</div>"
      ],
      "text/plain": [
       "           Id             App_Name  Price  Release_Year Release_Date  Genres  \\\n",
       "88310  761140  Lost Summoner Kitty   4.99          2018   2018-04-01  action   \n",
       "\n",
       "       Early_Access          Specs  Developer  Publisher  \n",
       "88310         False  single-player  Kotoshiro  Kotoshiro  "
      ]
     },
     "execution_count": 341,
     "metadata": {},
     "output_type": "execute_result"
    }
   ],
   "source": [
    "# Explode the Specs column\n",
    "df_steam_games.loc[:, 'Specs'] = df_steam_games['Specs'].str.strip().str.lower().str.split(', ')\n",
    "df_steam_games = df_steam_games.explode('Specs')\n",
    "# Display the modified dataframe\n",
    "df_steam_games.head(1)"
   ]
  },
  {
   "cell_type": "code",
   "execution_count": 342,
   "metadata": {},
   "outputs": [
    {
     "data": {
      "text/html": [
       "<div>\n",
       "<style scoped>\n",
       "    .dataframe tbody tr th:only-of-type {\n",
       "        vertical-align: middle;\n",
       "    }\n",
       "\n",
       "    .dataframe tbody tr th {\n",
       "        vertical-align: top;\n",
       "    }\n",
       "\n",
       "    .dataframe thead th {\n",
       "        text-align: right;\n",
       "    }\n",
       "</style>\n",
       "<table border=\"1\" class=\"dataframe\">\n",
       "  <thead>\n",
       "    <tr style=\"text-align: right;\">\n",
       "      <th></th>\n",
       "      <th>Id</th>\n",
       "      <th>App_Name</th>\n",
       "      <th>Price</th>\n",
       "      <th>Release_Year</th>\n",
       "      <th>Genres</th>\n",
       "      <th>Early_Access</th>\n",
       "      <th>Specs</th>\n",
       "      <th>Developer</th>\n",
       "    </tr>\n",
       "  </thead>\n",
       "  <tbody>\n",
       "    <tr>\n",
       "      <th>88310</th>\n",
       "      <td>761140</td>\n",
       "      <td>Lost Summoner Kitty</td>\n",
       "      <td>4.99</td>\n",
       "      <td>2018</td>\n",
       "      <td>action</td>\n",
       "      <td>False</td>\n",
       "      <td>single-player</td>\n",
       "      <td>Kotoshiro</td>\n",
       "    </tr>\n",
       "    <tr>\n",
       "      <th>88310</th>\n",
       "      <td>761140</td>\n",
       "      <td>Lost Summoner Kitty</td>\n",
       "      <td>4.99</td>\n",
       "      <td>2018</td>\n",
       "      <td>casual</td>\n",
       "      <td>False</td>\n",
       "      <td>single-player</td>\n",
       "      <td>Kotoshiro</td>\n",
       "    </tr>\n",
       "    <tr>\n",
       "      <th>88310</th>\n",
       "      <td>761140</td>\n",
       "      <td>Lost Summoner Kitty</td>\n",
       "      <td>4.99</td>\n",
       "      <td>2018</td>\n",
       "      <td>indie</td>\n",
       "      <td>False</td>\n",
       "      <td>single-player</td>\n",
       "      <td>Kotoshiro</td>\n",
       "    </tr>\n",
       "    <tr>\n",
       "      <th>88310</th>\n",
       "      <td>761140</td>\n",
       "      <td>Lost Summoner Kitty</td>\n",
       "      <td>4.99</td>\n",
       "      <td>2018</td>\n",
       "      <td>simulation</td>\n",
       "      <td>False</td>\n",
       "      <td>single-player</td>\n",
       "      <td>Kotoshiro</td>\n",
       "    </tr>\n",
       "    <tr>\n",
       "      <th>88310</th>\n",
       "      <td>761140</td>\n",
       "      <td>Lost Summoner Kitty</td>\n",
       "      <td>4.99</td>\n",
       "      <td>2018</td>\n",
       "      <td>strategy</td>\n",
       "      <td>False</td>\n",
       "      <td>single-player</td>\n",
       "      <td>Kotoshiro</td>\n",
       "    </tr>\n",
       "    <tr>\n",
       "      <th>...</th>\n",
       "      <td>...</td>\n",
       "      <td>...</td>\n",
       "      <td>...</td>\n",
       "      <td>...</td>\n",
       "      <td>...</td>\n",
       "      <td>...</td>\n",
       "      <td>...</td>\n",
       "      <td>...</td>\n",
       "    </tr>\n",
       "    <tr>\n",
       "      <th>120443</th>\n",
       "      <td>658870</td>\n",
       "      <td>Exit Directions</td>\n",
       "      <td>4.99</td>\n",
       "      <td>2017</td>\n",
       "      <td>casual</td>\n",
       "      <td>False</td>\n",
       "      <td>steam achievements</td>\n",
       "      <td>Xropistevns</td>\n",
       "    </tr>\n",
       "    <tr>\n",
       "      <th>120443</th>\n",
       "      <td>658870</td>\n",
       "      <td>Exit Directions</td>\n",
       "      <td>4.99</td>\n",
       "      <td>2017</td>\n",
       "      <td>casual</td>\n",
       "      <td>False</td>\n",
       "      <td>steam cloud</td>\n",
       "      <td>Xropistevns</td>\n",
       "    </tr>\n",
       "    <tr>\n",
       "      <th>120443</th>\n",
       "      <td>658870</td>\n",
       "      <td>Exit Directions</td>\n",
       "      <td>4.99</td>\n",
       "      <td>2017</td>\n",
       "      <td>indie</td>\n",
       "      <td>False</td>\n",
       "      <td>single-player</td>\n",
       "      <td>Xropistevns</td>\n",
       "    </tr>\n",
       "    <tr>\n",
       "      <th>120443</th>\n",
       "      <td>658870</td>\n",
       "      <td>Exit Directions</td>\n",
       "      <td>4.99</td>\n",
       "      <td>2017</td>\n",
       "      <td>indie</td>\n",
       "      <td>False</td>\n",
       "      <td>steam achievements</td>\n",
       "      <td>Xropistevns</td>\n",
       "    </tr>\n",
       "    <tr>\n",
       "      <th>120443</th>\n",
       "      <td>658870</td>\n",
       "      <td>Exit Directions</td>\n",
       "      <td>4.99</td>\n",
       "      <td>2017</td>\n",
       "      <td>indie</td>\n",
       "      <td>False</td>\n",
       "      <td>steam cloud</td>\n",
       "      <td>Xropistevns</td>\n",
       "    </tr>\n",
       "  </tbody>\n",
       "</table>\n",
       "<p>116160 rows × 8 columns</p>\n",
       "</div>"
      ],
      "text/plain": [
       "            Id             App_Name  Price  Release_Year      Genres  \\\n",
       "88310   761140  Lost Summoner Kitty   4.99          2018      action   \n",
       "88310   761140  Lost Summoner Kitty   4.99          2018      casual   \n",
       "88310   761140  Lost Summoner Kitty   4.99          2018       indie   \n",
       "88310   761140  Lost Summoner Kitty   4.99          2018  simulation   \n",
       "88310   761140  Lost Summoner Kitty   4.99          2018    strategy   \n",
       "...        ...                  ...    ...           ...         ...   \n",
       "120443  658870      Exit Directions   4.99          2017      casual   \n",
       "120443  658870      Exit Directions   4.99          2017      casual   \n",
       "120443  658870      Exit Directions   4.99          2017       indie   \n",
       "120443  658870      Exit Directions   4.99          2017       indie   \n",
       "120443  658870      Exit Directions   4.99          2017       indie   \n",
       "\n",
       "        Early_Access               Specs    Developer  \n",
       "88310          False       single-player    Kotoshiro  \n",
       "88310          False       single-player    Kotoshiro  \n",
       "88310          False       single-player    Kotoshiro  \n",
       "88310          False       single-player    Kotoshiro  \n",
       "88310          False       single-player    Kotoshiro  \n",
       "...              ...                 ...          ...  \n",
       "120443         False  steam achievements  Xropistevns  \n",
       "120443         False         steam cloud  Xropistevns  \n",
       "120443         False       single-player  Xropistevns  \n",
       "120443         False  steam achievements  Xropistevns  \n",
       "120443         False         steam cloud  Xropistevns  \n",
       "\n",
       "[116160 rows x 8 columns]"
      ]
     },
     "execution_count": 342,
     "metadata": {},
     "output_type": "execute_result"
    }
   ],
   "source": [
    "# Remove column that's not needed for the recommendation system\n",
    "df_steam_games = df_steam_games.drop('Publisher', axis=1) # Not necessary\n",
    "df_steam_games = df_steam_games.drop('Release_Date', axis=1) # Not necessary\n",
    "df_steam_games"
   ]
  },
  {
   "cell_type": "code",
   "execution_count": 343,
   "metadata": {},
   "outputs": [],
   "source": [
    "df_steam_games.to_parquet('ML_data/EDA_steam_games.gzip', compression='gzip')"
   ]
  },
  {
   "cell_type": "markdown",
   "metadata": {},
   "source": [
    "### EDA USER REVIEWS"
   ]
  },
  {
   "cell_type": "code",
   "execution_count": 344,
   "metadata": {},
   "outputs": [
    {
     "data": {
      "text/html": [
       "<div>\n",
       "<style scoped>\n",
       "    .dataframe tbody tr th:only-of-type {\n",
       "        vertical-align: middle;\n",
       "    }\n",
       "\n",
       "    .dataframe tbody tr th {\n",
       "        vertical-align: top;\n",
       "    }\n",
       "\n",
       "    .dataframe thead th {\n",
       "        text-align: right;\n",
       "    }\n",
       "</style>\n",
       "<table border=\"1\" class=\"dataframe\">\n",
       "  <thead>\n",
       "    <tr style=\"text-align: right;\">\n",
       "      <th></th>\n",
       "      <th>User_Id</th>\n",
       "      <th>Posted</th>\n",
       "      <th>Item_Id</th>\n",
       "      <th>Recommend</th>\n",
       "      <th>Year</th>\n",
       "      <th>Sentiment_Score</th>\n",
       "    </tr>\n",
       "  </thead>\n",
       "  <tbody>\n",
       "    <tr>\n",
       "      <th>0</th>\n",
       "      <td>76561197970982479</td>\n",
       "      <td>2011-11-05</td>\n",
       "      <td>1250</td>\n",
       "      <td>True</td>\n",
       "      <td>2011</td>\n",
       "      <td>2</td>\n",
       "    </tr>\n",
       "  </tbody>\n",
       "</table>\n",
       "</div>"
      ],
      "text/plain": [
       "             User_Id      Posted Item_Id  Recommend  Year  Sentiment_Score\n",
       "0  76561197970982479  2011-11-05    1250       True  2011                2"
      ]
     },
     "execution_count": 344,
     "metadata": {},
     "output_type": "execute_result"
    }
   ],
   "source": [
    "# Load user_revs dataframe\n",
    "df_user_reviews = pd.read_parquet('GZIP/df_user_revs.gzip')\n",
    "df_user_reviews.head(1)"
   ]
  },
  {
   "cell_type": "code",
   "execution_count": 345,
   "metadata": {},
   "outputs": [
    {
     "name": "stdout",
     "output_type": "stream",
     "text": [
      "Empty DataFrame\n",
      "Columns: [User_Id, Posted, Item_Id, Recommend, Year, Sentiment_Score]\n",
      "Index: []\n",
      "                 User_Id      Posted Item_Id  Recommend  Year  Sentiment_Score\n",
      "456           bokkkbokkk  2015-09-24  346110       True  2015                2\n",
      "1182          ImSeriouss  2014-01-10  218620       True  2014                2\n",
      "1182          ImSeriouss  2014-01-10  105600       True  2014                2\n",
      "1182          ImSeriouss  2014-12-17     570       True  2014                2\n",
      "1182          ImSeriouss  2014-01-13  211820       True  2014                2\n",
      "...                  ...         ...     ...        ...   ...              ...\n",
      "17916        yolofaceguy  2014-09-02  261030       True  2014                0\n",
      "18028  76561198075591109  2013-12-26  242570       True  2013                2\n",
      "18234  76561198092022514  2014-08-17  261820       True  2014                0\n",
      "18234  76561198092022514  2014-02-17  224260       True  2014                2\n",
      "18309     SuchGayMuchWow  2015-07-18     730       True  2015                2\n",
      "\n",
      "[688 rows x 6 columns]\n"
     ]
    }
   ],
   "source": [
    "# Check if there's any Nan value in any column\n",
    "rows_with_nan = df_user_reviews[df_user_reviews.isna().any(axis=1)]\n",
    "print(rows_with_nan)\n",
    "# Check duplicated rows\n",
    "duplicated_rows = df_user_reviews[df_user_reviews.duplicated()]\n",
    "print(duplicated_rows)"
   ]
  },
  {
   "cell_type": "code",
   "execution_count": 346,
   "metadata": {},
   "outputs": [],
   "source": [
    "# Delete duplicates\n",
    "df_user_reviews.drop_duplicates(inplace=True)"
   ]
  },
  {
   "cell_type": "code",
   "execution_count": 347,
   "metadata": {},
   "outputs": [
    {
     "name": "stdout",
     "output_type": "stream",
     "text": [
      "Empty DataFrame\n",
      "Columns: [User_Id, Posted, Item_Id, Recommend, Year, Sentiment_Score]\n",
      "Index: []\n",
      "Empty DataFrame\n",
      "Columns: [User_Id, Posted, Item_Id, Recommend, Year, Sentiment_Score]\n",
      "Index: []\n"
     ]
    }
   ],
   "source": [
    "# Check if there's any Nan value in any column\n",
    "rows_with_nan = df_user_reviews[df_user_reviews.isna().any(axis=1)]\n",
    "print(rows_with_nan)\n",
    "# Check duplicated rows\n",
    "duplicated_rows = df_user_reviews[df_user_reviews.duplicated()]\n",
    "print(duplicated_rows)"
   ]
  },
  {
   "cell_type": "code",
   "execution_count": 348,
   "metadata": {},
   "outputs": [
    {
     "data": {
      "text/html": [
       "<div>\n",
       "<style scoped>\n",
       "    .dataframe tbody tr th:only-of-type {\n",
       "        vertical-align: middle;\n",
       "    }\n",
       "\n",
       "    .dataframe tbody tr th {\n",
       "        vertical-align: top;\n",
       "    }\n",
       "\n",
       "    .dataframe thead th {\n",
       "        text-align: right;\n",
       "    }\n",
       "</style>\n",
       "<table border=\"1\" class=\"dataframe\">\n",
       "  <thead>\n",
       "    <tr style=\"text-align: right;\">\n",
       "      <th></th>\n",
       "      <th>User_Id</th>\n",
       "      <th>Posted</th>\n",
       "      <th>Item_Id</th>\n",
       "      <th>Recommend</th>\n",
       "      <th>Year</th>\n",
       "      <th>Sentiment_Score</th>\n",
       "    </tr>\n",
       "  </thead>\n",
       "  <tbody>\n",
       "    <tr>\n",
       "      <th>0</th>\n",
       "      <td>76561197970982479</td>\n",
       "      <td>2011-11-05</td>\n",
       "      <td>1250</td>\n",
       "      <td>True</td>\n",
       "      <td>2011</td>\n",
       "      <td>2</td>\n",
       "    </tr>\n",
       "  </tbody>\n",
       "</table>\n",
       "</div>"
      ],
      "text/plain": [
       "             User_Id      Posted Item_Id  Recommend  Year  Sentiment_Score\n",
       "0  76561197970982479  2011-11-05    1250       True  2011                2"
      ]
     },
     "execution_count": 348,
     "metadata": {},
     "output_type": "execute_result"
    }
   ],
   "source": [
    "df_user_reviews.head(1)"
   ]
  },
  {
   "cell_type": "code",
   "execution_count": 349,
   "metadata": {},
   "outputs": [
    {
     "data": {
      "text/html": [
       "<div>\n",
       "<style scoped>\n",
       "    .dataframe tbody tr th:only-of-type {\n",
       "        vertical-align: middle;\n",
       "    }\n",
       "\n",
       "    .dataframe tbody tr th {\n",
       "        vertical-align: top;\n",
       "    }\n",
       "\n",
       "    .dataframe thead th {\n",
       "        text-align: right;\n",
       "    }\n",
       "</style>\n",
       "<table border=\"1\" class=\"dataframe\">\n",
       "  <thead>\n",
       "    <tr style=\"text-align: right;\">\n",
       "      <th></th>\n",
       "      <th>User_Id</th>\n",
       "      <th>Item_Id</th>\n",
       "      <th>Recommend</th>\n",
       "      <th>Year</th>\n",
       "      <th>Sentiment_Score</th>\n",
       "    </tr>\n",
       "  </thead>\n",
       "  <tbody>\n",
       "    <tr>\n",
       "      <th>0</th>\n",
       "      <td>76561197970982479</td>\n",
       "      <td>1250</td>\n",
       "      <td>True</td>\n",
       "      <td>2011</td>\n",
       "      <td>2</td>\n",
       "    </tr>\n",
       "  </tbody>\n",
       "</table>\n",
       "</div>"
      ],
      "text/plain": [
       "             User_Id Item_Id  Recommend  Year  Sentiment_Score\n",
       "0  76561197970982479    1250       True  2011                2"
      ]
     },
     "execution_count": 349,
     "metadata": {},
     "output_type": "execute_result"
    }
   ],
   "source": [
    "# Drops Posted, and just leave the year\n",
    "df_user_reviews.drop([\"Posted\"], axis=1, inplace= True)\n",
    "df_user_reviews.head(1)"
   ]
  },
  {
   "cell_type": "code",
   "execution_count": 350,
   "metadata": {},
   "outputs": [],
   "source": [
    "df_user_reviews.to_parquet('ML_data/EDA_user_reviews.gzip', compression='gzip')"
   ]
  },
  {
   "cell_type": "markdown",
   "metadata": {},
   "source": [
    "### EDA USER ITEMS"
   ]
  },
  {
   "cell_type": "code",
   "execution_count": 351,
   "metadata": {},
   "outputs": [
    {
     "data": {
      "text/html": [
       "<div>\n",
       "<style scoped>\n",
       "    .dataframe tbody tr th:only-of-type {\n",
       "        vertical-align: middle;\n",
       "    }\n",
       "\n",
       "    .dataframe tbody tr th {\n",
       "        vertical-align: top;\n",
       "    }\n",
       "\n",
       "    .dataframe thead th {\n",
       "        text-align: right;\n",
       "    }\n",
       "</style>\n",
       "<table border=\"1\" class=\"dataframe\">\n",
       "  <thead>\n",
       "    <tr style=\"text-align: right;\">\n",
       "      <th></th>\n",
       "      <th>Item_Id</th>\n",
       "      <th>Item_Name</th>\n",
       "      <th>Playtime_Forever</th>\n",
       "      <th>Playtime_2Weeks</th>\n",
       "      <th>User_Id</th>\n",
       "      <th>Steam_Id</th>\n",
       "    </tr>\n",
       "  </thead>\n",
       "  <tbody>\n",
       "    <tr>\n",
       "      <th>0</th>\n",
       "      <td>10</td>\n",
       "      <td>Counter-Strike</td>\n",
       "      <td>6.0</td>\n",
       "      <td>0.0</td>\n",
       "      <td>76561197970982479</td>\n",
       "      <td>76561197970982479</td>\n",
       "    </tr>\n",
       "  </tbody>\n",
       "</table>\n",
       "</div>"
      ],
      "text/plain": [
       "  Item_Id       Item_Name  Playtime_Forever  Playtime_2Weeks  \\\n",
       "0      10  Counter-Strike               6.0              0.0   \n",
       "\n",
       "             User_Id           Steam_Id  \n",
       "0  76561197970982479  76561197970982479  "
      ]
     },
     "execution_count": 351,
     "metadata": {},
     "output_type": "execute_result"
    }
   ],
   "source": [
    "# Load user_items dataframe\n",
    "df_user_items = pd.read_parquet('GZIP/user_items.gzip')\n",
    "df_user_items.head(1)"
   ]
  },
  {
   "cell_type": "code",
   "execution_count": 352,
   "metadata": {},
   "outputs": [
    {
     "name": "stdout",
     "output_type": "stream",
     "text": [
      "Empty DataFrame\n",
      "Columns: [Item_Id, Item_Name, Playtime_Forever, Playtime_2Weeks, User_Id, Steam_Id]\n",
      "Index: []\n",
      "      Item_Id                         Item_Name  Playtime_Forever  \\\n",
      "1732       20             Team Fortress Classic               5.0   \n",
      "1732       50         Half-Life: Opposing Force               0.0   \n",
      "1732       70                         Half-Life               0.0   \n",
      "1732      130             Half-Life: Blue Shift               0.0   \n",
      "1732      220                       Half-Life 2             198.0   \n",
      "...       ...                               ...               ...   \n",
      "73424  213670  South Park™: The Stick of Truth™             725.0   \n",
      "73424  221910               The Stanley Parable              53.0   \n",
      "73424  261030      The Walking Dead: Season Two             253.0   \n",
      "73424  273110     Counter-Strike Nexon: Zombies               0.0   \n",
      "73424     730  Counter-Strike: Global Offensive               0.0   \n",
      "\n",
      "       Playtime_2Weeks            User_Id           Steam_Id  \n",
      "1732               0.0             Nikiad  76561198084006094  \n",
      "1732               0.0             Nikiad  76561198084006094  \n",
      "1732               0.0             Nikiad  76561198084006094  \n",
      "1732               0.0             Nikiad  76561198084006094  \n",
      "1732               0.0             Nikiad  76561198084006094  \n",
      "...                ...                ...                ...  \n",
      "73424              0.0  76561198080057659  76561198080057659  \n",
      "73424              0.0  76561198080057659  76561198080057659  \n",
      "73424              0.0  76561198080057659  76561198080057659  \n",
      "73424              0.0  76561198080057659  76561198080057659  \n",
      "73424              0.0  76561198080057659  76561198080057659  \n",
      "\n",
      "[59104 rows x 6 columns]\n"
     ]
    }
   ],
   "source": [
    "# Check if there's any Nan value in any column\n",
    "rows_with_nan = df_user_items[df_user_items.isna().any(axis=1)]\n",
    "print(rows_with_nan)\n",
    "# Check duplicated rows\n",
    "duplicated_rows = df_user_items[df_user_items.duplicated()]\n",
    "print(duplicated_rows)"
   ]
  },
  {
   "cell_type": "code",
   "execution_count": 353,
   "metadata": {},
   "outputs": [],
   "source": [
    "# Delete duplicated rows\n",
    "df_user_items.drop_duplicates(inplace=True)"
   ]
  },
  {
   "cell_type": "code",
   "execution_count": 354,
   "metadata": {},
   "outputs": [
    {
     "data": {
      "text/html": [
       "<div>\n",
       "<style scoped>\n",
       "    .dataframe tbody tr th:only-of-type {\n",
       "        vertical-align: middle;\n",
       "    }\n",
       "\n",
       "    .dataframe tbody tr th {\n",
       "        vertical-align: top;\n",
       "    }\n",
       "\n",
       "    .dataframe thead th {\n",
       "        text-align: right;\n",
       "    }\n",
       "</style>\n",
       "<table border=\"1\" class=\"dataframe\">\n",
       "  <thead>\n",
       "    <tr style=\"text-align: right;\">\n",
       "      <th></th>\n",
       "      <th>Item_Id</th>\n",
       "      <th>Item_Name</th>\n",
       "      <th>Playtime_Forever</th>\n",
       "      <th>Playtime_2Weeks</th>\n",
       "      <th>User_Id</th>\n",
       "      <th>Steam_Id</th>\n",
       "    </tr>\n",
       "  </thead>\n",
       "  <tbody>\n",
       "    <tr>\n",
       "      <th>0</th>\n",
       "      <td>10</td>\n",
       "      <td>Counter-Strike</td>\n",
       "      <td>6.0</td>\n",
       "      <td>0.0</td>\n",
       "      <td>76561197970982479</td>\n",
       "      <td>76561197970982479</td>\n",
       "    </tr>\n",
       "  </tbody>\n",
       "</table>\n",
       "</div>"
      ],
      "text/plain": [
       "  Item_Id       Item_Name  Playtime_Forever  Playtime_2Weeks  \\\n",
       "0      10  Counter-Strike               6.0              0.0   \n",
       "\n",
       "             User_Id           Steam_Id  \n",
       "0  76561197970982479  76561197970982479  "
      ]
     },
     "execution_count": 354,
     "metadata": {},
     "output_type": "execute_result"
    }
   ],
   "source": [
    "# View DF\n",
    "df_user_items.head(1)"
   ]
  },
  {
   "cell_type": "code",
   "execution_count": 355,
   "metadata": {},
   "outputs": [],
   "source": [
    "# Drop no needed columns\n",
    "df_user_items = df_user_items.drop(['Playtime_2Weeks', 'Steam_Id'], axis=1)"
   ]
  },
  {
   "cell_type": "code",
   "execution_count": 356,
   "metadata": {},
   "outputs": [
    {
     "data": {
      "text/html": [
       "<div>\n",
       "<style scoped>\n",
       "    .dataframe tbody tr th:only-of-type {\n",
       "        vertical-align: middle;\n",
       "    }\n",
       "\n",
       "    .dataframe tbody tr th {\n",
       "        vertical-align: top;\n",
       "    }\n",
       "\n",
       "    .dataframe thead th {\n",
       "        text-align: right;\n",
       "    }\n",
       "</style>\n",
       "<table border=\"1\" class=\"dataframe\">\n",
       "  <thead>\n",
       "    <tr style=\"text-align: right;\">\n",
       "      <th></th>\n",
       "      <th>Item_Id</th>\n",
       "      <th>Item_Name</th>\n",
       "      <th>Playtime_Forever</th>\n",
       "      <th>User_Id</th>\n",
       "    </tr>\n",
       "  </thead>\n",
       "  <tbody>\n",
       "    <tr>\n",
       "      <th>0</th>\n",
       "      <td>10</td>\n",
       "      <td>Counter-Strike</td>\n",
       "      <td>6.0</td>\n",
       "      <td>76561197970982479</td>\n",
       "    </tr>\n",
       "  </tbody>\n",
       "</table>\n",
       "</div>"
      ],
      "text/plain": [
       "  Item_Id       Item_Name  Playtime_Forever            User_Id\n",
       "0      10  Counter-Strike               6.0  76561197970982479"
      ]
     },
     "execution_count": 356,
     "metadata": {},
     "output_type": "execute_result"
    }
   ],
   "source": [
    "df_user_items.head(1)"
   ]
  },
  {
   "cell_type": "code",
   "execution_count": 357,
   "metadata": {},
   "outputs": [
    {
     "data": {
      "text/html": [
       "<div>\n",
       "<style scoped>\n",
       "    .dataframe tbody tr th:only-of-type {\n",
       "        vertical-align: middle;\n",
       "    }\n",
       "\n",
       "    .dataframe tbody tr th {\n",
       "        vertical-align: top;\n",
       "    }\n",
       "\n",
       "    .dataframe thead th {\n",
       "        text-align: right;\n",
       "    }\n",
       "</style>\n",
       "<table border=\"1\" class=\"dataframe\">\n",
       "  <thead>\n",
       "    <tr style=\"text-align: right;\">\n",
       "      <th></th>\n",
       "      <th>Item_Id</th>\n",
       "      <th>Item_Name</th>\n",
       "      <th>Playtime_Forever</th>\n",
       "      <th>User_Id</th>\n",
       "    </tr>\n",
       "  </thead>\n",
       "  <tbody>\n",
       "    <tr>\n",
       "      <th>17973</th>\n",
       "      <td>200210</td>\n",
       "      <td>Realm of the Mad God</td>\n",
       "      <td>166.0</td>\n",
       "      <td>--000--</td>\n",
       "    </tr>\n",
       "    <tr>\n",
       "      <th>17973</th>\n",
       "      <td>263760</td>\n",
       "      <td>Turbo Dismount</td>\n",
       "      <td>244.0</td>\n",
       "      <td>--000--</td>\n",
       "    </tr>\n",
       "    <tr>\n",
       "      <th>17973</th>\n",
       "      <td>233190</td>\n",
       "      <td>Final Exam</td>\n",
       "      <td>193.0</td>\n",
       "      <td>--000--</td>\n",
       "    </tr>\n",
       "  </tbody>\n",
       "</table>\n",
       "</div>"
      ],
      "text/plain": [
       "      Item_Id             Item_Name  Playtime_Forever  User_Id\n",
       "17973  200210  Realm of the Mad God             166.0  --000--\n",
       "17973  263760        Turbo Dismount             244.0  --000--\n",
       "17973  233190            Final Exam             193.0  --000--"
      ]
     },
     "execution_count": 357,
     "metadata": {},
     "output_type": "execute_result"
    }
   ],
   "source": [
    "# Sort By Id\n",
    "df_user_items = df_user_items.sort_values(by='User_Id')\n",
    "df_user_items.head(3)"
   ]
  },
  {
   "cell_type": "code",
   "execution_count": 358,
   "metadata": {},
   "outputs": [],
   "source": [
    "df_user_items.to_parquet('ML_data/EDA_user_items.gzip', compression='gzip')"
   ]
  },
  {
   "cell_type": "markdown",
   "metadata": {},
   "source": [
    "### EDA STEAM GAMES ANALYSIS"
   ]
  },
  {
   "cell_type": "code",
   "execution_count": 359,
   "metadata": {},
   "outputs": [],
   "source": [
    "df_EDA_steam = pd.read_parquet('ML_data/EDA_steam_games.gzip')"
   ]
  },
  {
   "cell_type": "code",
   "execution_count": 360,
   "metadata": {},
   "outputs": [
    {
     "name": "stdout",
     "output_type": "stream",
     "text": [
      "<class 'pandas.core.series.Series'>\n",
      "Index: 116160 entries, 88310 to 120443\n",
      "Series name: Price\n",
      "Non-Null Count   Dtype  \n",
      "--------------   -----  \n",
      "116160 non-null  float64\n",
      "dtypes: float64(1)\n",
      "memory usage: 1.8 MB\n"
     ]
    }
   ],
   "source": [
    "# Info about prices\n",
    "df_EDA_steam['Price'].info()"
   ]
  },
  {
   "cell_type": "code",
   "execution_count": 361,
   "metadata": {},
   "outputs": [],
   "source": [
    "# Since there are string values, I will convert them to 0, assuming they represent free versions.\n",
    "# Replace 'Free To Play' with 0 in the 'price' column\n",
    "df_EDA_steam.loc[df_EDA_steam['Price'] == 'Free To Play', 'Price'] = 0\n",
    "# List of values to replace\n",
    "values_to_replace = ['Free Demo', 'Play for Free!', 'Free','Install Theme', 'Install Now', 'Free Mod', 'Install Theme', 'Third-party', 'Play Now', 'Free HITMAN™ Holiday Pack', 'Play the Demo', 'Free to Try', 'Free to Use', 'Play WARMACHINE: Tactics Demo']\n",
    "# Replace the values in the 'price' column with 0\n",
    "df_EDA_steam['Price'].replace(values_to_replace, 0, inplace=True)\n"
   ]
  },
  {
   "cell_type": "code",
   "execution_count": 362,
   "metadata": {},
   "outputs": [
    {
     "data": {
      "text/plain": [
       "array([4.9900e+00, 0.0000e+00, 9.9000e-01, 3.9900e+00, 9.9900e+00,\n",
       "       1.8990e+01, 2.9990e+01, 1.0990e+01, 2.9900e+00, 1.5900e+00,\n",
       "       1.4990e+01, 1.9900e+00, 5.9990e+01, 8.9900e+00, 6.9900e+00,\n",
       "       7.4900e+00, 1.2990e+01, 5.9900e+00, 7.9900e+00, 1.9990e+01,\n",
       "       1.7990e+01, 6.1990e+01, 3.9990e+01, 3.4900e+00, 1.1990e+01,\n",
       "       9.9990e+01, 1.4950e+01, 1.3990e+01, 2.4900e+00, 1.6990e+01,\n",
       "       2.4990e+01, 1.3980e+01, 4.9990e+01, 3.4990e+01, 1.3992e+02,\n",
       "       4.2900e+00, 6.4990e+01, 7.4990e+01, 8.9990e+01, 1.2900e+00,\n",
       "       4.4990e+01, 2.3990e+01, 1.5990e+01, 1.9500e+00, 6.9990e+01,\n",
       "       2.6990e+01, 3.9999e+02, 1.4999e+02, 2.0000e+01, 4.0000e+01,\n",
       "       7.9990e+01, 5.4990e+01, 1.1999e+02, 3.8850e+01, 7.1700e+01,\n",
       "       5.4900e+00, 1.5000e+01, 2.7490e+01, 2.2990e+01, 4.9999e+02,\n",
       "       1.6060e+01, 4.6800e+00, 1.3140e+02, 3.6990e+01, 1.7224e+02,\n",
       "       2.4999e+02, 2.9700e+00, 1.0000e+01, 3.0000e+01, 3.1990e+01,\n",
       "       2.7990e+01, 1.1150e+01, 4.9000e+01, 1.9900e+02, 9.9000e+01,\n",
       "       9.9800e+00, 9.9500e+00, 4.4900e+00, 4.9000e-01, 4.1990e+01,\n",
       "       2.3960e+01, 1.2999e+02, 1.3370e+01, 5.9950e+01, 1.9980e+01,\n",
       "       1.4900e+00, 1.6091e+02])"
      ]
     },
     "execution_count": 362,
     "metadata": {},
     "output_type": "execute_result"
    }
   ],
   "source": [
    "# Check all prices\n",
    "df_EDA_steam['Price'].unique()"
   ]
  },
  {
   "cell_type": "code",
   "execution_count": 363,
   "metadata": {},
   "outputs": [
    {
     "name": "stdout",
     "output_type": "stream",
     "text": [
      "Price\n",
      "4.99      16062\n",
      "2.99      15094\n",
      "9.99      13592\n",
      "0.99       9445\n",
      "1.99       8938\n",
      "          ...  \n",
      "199.00        1\n",
      "49.00         1\n",
      "119.99        1\n",
      "14.95         1\n",
      "4.29          1\n",
      "Name: count, Length: 87, dtype: int64\n",
      "Price\n",
      "4.99     16062\n",
      "2.99     15094\n",
      "9.99     13592\n",
      "0.99      9445\n",
      "1.99      8938\n",
      "0.00      7567\n",
      "14.99     6687\n",
      "3.99      6535\n",
      "19.99     6213\n",
      "7.99      4367\n",
      "Name: count, dtype: int64\n"
     ]
    }
   ],
   "source": [
    "# Use value_counts to count the frequency of each unique value in 'Price'\n",
    "value_counts = df_EDA_steam['Price'].value_counts()\n",
    "# Print the result\n",
    "print(value_counts)\n",
    "print(value_counts.head(10))"
   ]
  },
  {
   "cell_type": "code",
   "execution_count": 364,
   "metadata": {},
   "outputs": [
    {
     "name": "stdout",
     "output_type": "stream",
     "text": [
      "First Quartile (Q1): 2.99\n",
      "Median (Q2): 4.99\n",
      "Third Quartile (Q3): 9.99\n"
     ]
    }
   ],
   "source": [
    "# Calculate the first quartile (Q1)\n",
    "q1 = df_EDA_steam['Price'].quantile(0.25)\n",
    "# Calculate the median (Q2)\n",
    "q2 = df_EDA_steam['Price'].quantile(0.5)\n",
    "# Calculate the third quartile (Q3)\n",
    "q3 = df_EDA_steam['Price'].quantile(0.75)\n",
    "print(\"First Quartile (Q1):\", q1)\n",
    "print(\"Median (Q2):\", q2)\n",
    "print(\"Third Quartile (Q3):\", q3)"
   ]
  },
  {
   "cell_type": "code",
   "execution_count": 365,
   "metadata": {},
   "outputs": [
    {
     "name": "stdout",
     "output_type": "stream",
     "text": [
      "Outliers:\n",
      "[ 29.99  59.99  61.99  39.99  99.99  24.99  49.99  34.99 139.92  64.99\n",
      "  74.99  89.99  44.99  23.99  69.99  26.99 399.99 149.99  40.    79.99\n",
      "  54.99 119.99  38.85  71.7   27.49  22.99 499.99 131.4   36.99 172.24\n",
      " 249.99  30.    31.99  27.99  49.   199.    99.    41.99  23.96 129.99\n",
      "  59.95 160.91]\n"
     ]
    }
   ],
   "source": [
    "# Calculate the first quartile (Q1) and the third quartile (Q3)\n",
    "Q1 = df_EDA_steam['Price'].quantile(0.25)\n",
    "Q3 = df_EDA_steam['Price'].quantile(0.75)\n",
    "# Calculate the interquartile range (IQR)\n",
    "IQR = Q3 - Q1\n",
    "# Calculate the limits for outliers\n",
    "lower_limit = Q1 - 1.5 * IQR\n",
    "upper_limit = Q3 + 1.5 * IQR\n",
    "# Identify outliers\n",
    "outliers = df_EDA_steam[(df_EDA_steam['Price'] < lower_limit) | (df_EDA_steam['Price'] > upper_limit)]\n",
    "# Print outliers\n",
    "print(\"Outliers:\")\n",
    "print(outliers['Price'].unique())\n"
   ]
  },
  {
   "cell_type": "code",
   "execution_count": 366,
   "metadata": {},
   "outputs": [
    {
     "data": {
      "text/html": [
       "<div>\n",
       "<style scoped>\n",
       "    .dataframe tbody tr th:only-of-type {\n",
       "        vertical-align: middle;\n",
       "    }\n",
       "\n",
       "    .dataframe tbody tr th {\n",
       "        vertical-align: top;\n",
       "    }\n",
       "\n",
       "    .dataframe thead th {\n",
       "        text-align: right;\n",
       "    }\n",
       "</style>\n",
       "<table border=\"1\" class=\"dataframe\">\n",
       "  <thead>\n",
       "    <tr style=\"text-align: right;\">\n",
       "      <th></th>\n",
       "      <th>Id</th>\n",
       "      <th>App_Name</th>\n",
       "      <th>Price</th>\n",
       "      <th>Release_Year</th>\n",
       "      <th>Genres</th>\n",
       "      <th>Early_Access</th>\n",
       "      <th>Specs</th>\n",
       "      <th>Developer</th>\n",
       "      <th>Price_range</th>\n",
       "    </tr>\n",
       "  </thead>\n",
       "  <tbody>\n",
       "    <tr>\n",
       "      <th>88310</th>\n",
       "      <td>761140</td>\n",
       "      <td>Lost Summoner Kitty</td>\n",
       "      <td>4.99</td>\n",
       "      <td>2018</td>\n",
       "      <td>action</td>\n",
       "      <td>False</td>\n",
       "      <td>single-player</td>\n",
       "      <td>Kotoshiro</td>\n",
       "      <td>2</td>\n",
       "    </tr>\n",
       "  </tbody>\n",
       "</table>\n",
       "</div>"
      ],
      "text/plain": [
       "           Id             App_Name  Price  Release_Year  Genres  Early_Access  \\\n",
       "88310  761140  Lost Summoner Kitty   4.99          2018  action         False   \n",
       "\n",
       "               Specs  Developer  Price_range  \n",
       "88310  single-player  Kotoshiro            2  "
      ]
     },
     "execution_count": 366,
     "metadata": {},
     "output_type": "execute_result"
    }
   ],
   "source": [
    "# Define a function to map price ranges\n",
    "def assign_range(price):\n",
    "    if price == 0:\n",
    "        return 0\n",
    "    elif 0 < price < 3:\n",
    "        return 1\n",
    "    elif 3 <= price < 7:\n",
    "        return 2\n",
    "    elif 7 <= price < 15:\n",
    "        return 3\n",
    "    elif 15 <= price < 30:\n",
    "        return 4\n",
    "    elif 30 <= price < 60:\n",
    "        return 5\n",
    "    else:\n",
    "        return 6\n",
    "# Apply the function to the 'price' column and create a new column 'price_range'\n",
    "df_EDA_steam['Price_range'] = df_EDA_steam['Price'].apply(assign_range)\n",
    "df_EDA_steam.head(1)"
   ]
  },
  {
   "cell_type": "code",
   "execution_count": 367,
   "metadata": {},
   "outputs": [
    {
     "data": {
      "image/png": "[encoded data removed]",
      "text/plain": [
       "<Figure size 800x600 with 1 Axes>"
      ]
     },
     "metadata": {},
     "output_type": "display_data"
    }
   ],
   "source": [
    "plt.figure(figsize=(8, 6))  # Figure size\n",
    "# Create a histogram of the 'price_range' column\n",
    "plt.hist(df_EDA_steam['Price_range'], bins=[0, 1, 2, 3, 4, 5, 6, 7], rwidth=0.8, align='left')\n",
    "# Labels and title configuration\n",
    "plt.xlabel('Price Range')\n",
    "plt.ylabel('Frequency')\n",
    "plt.title('Price Range Histogram')\n",
    "# X-axis tick labels\n",
    "plt.xticks(range(7), ['0', '1', '2', '3', '4', '5', '6'])\n",
    "# Show the plot\n",
    "plt.show()"
   ]
  },
  {
   "cell_type": "code",
   "execution_count": 368,
   "metadata": {},
   "outputs": [
    {
     "data": {
      "text/plain": [
       "array([2018, 2017, 1998, 2006, 2005, 2002, 2007, 1995, 1994, 1993, 2003,\n",
       "       2008, 1997, 2009, 1999, 1992, 1989, 2001, 2010, 2000, 2011, 2012,\n",
       "       2013, 2004, 2014, 1996, 2016, 1990, 2015, 1988, 1991, 1987, 1986,\n",
       "       2019, 1984, 1985])"
      ]
     },
     "execution_count": 368,
     "metadata": {},
     "output_type": "execute_result"
    }
   ],
   "source": [
    "df_EDA_steam['Release_Year'].unique()"
   ]
  },
  {
   "cell_type": "code",
   "execution_count": 369,
   "metadata": {},
   "outputs": [
    {
     "name": "stdout",
     "output_type": "stream",
     "text": [
      "Release_Year\n",
      "2017    38682\n",
      "2016    30872\n",
      "2015    22671\n",
      "2014    10403\n",
      "2013     5707\n",
      "2012     2773\n",
      "2011     1043\n",
      "2009      773\n",
      "2010      751\n",
      "2018      711\n",
      "2007      275\n",
      "2008      264\n",
      "2006      223\n",
      "2005      172\n",
      "2003      167\n",
      "2004       87\n",
      "2001       82\n",
      "1999       77\n",
      "1994       56\n",
      "1993       49\n",
      "1997       41\n",
      "1995       39\n",
      "1998       37\n",
      "2002       30\n",
      "1992       28\n",
      "2000       24\n",
      "1996       24\n",
      "1991       22\n",
      "1986       15\n",
      "1984       12\n",
      "2019       12\n",
      "1988       11\n",
      "1989       10\n",
      "1990       10\n",
      "1987        6\n",
      "1985        1\n",
      "Name: count, dtype: int64\n"
     ]
    }
   ],
   "source": [
    "# Use value_counts to count the frequency of each unique value in the 'release_year' column\n",
    "value_counts = df_EDA_steam['Release_Year'].value_counts()\n",
    "# Print the result\n",
    "print(value_counts)"
   ]
  },
  {
   "cell_type": "code",
   "execution_count": 370,
   "metadata": {},
   "outputs": [
    {
     "data": {
      "image/png": "[encoded data removed]",
      "text/plain": [
       "<Figure size 1000x600 with 1 Axes>"
      ]
     },
     "metadata": {},
     "output_type": "display_data"
    }
   ],
   "source": [
    "# Group the data by year and count the number of games in each year\n",
    "yearly_counts = df_EDA_steam['Release_Year'].value_counts().sort_index()\n",
    "# Create a line plot\n",
    "plt.figure(figsize=(10, 6))\n",
    "plt.plot(yearly_counts.index, yearly_counts.values, marker='o', linestyle='-')\n",
    "# Label and title configuration\n",
    "plt.xlabel('Year of Release')\n",
    "plt.ylabel('Number of Games')\n",
    "plt.title('Growth of Games Over the Years')\n",
    "# Display the plot\n",
    "plt.grid()\n",
    "plt.show()"
   ]
  },
  {
   "cell_type": "markdown",
   "metadata": {},
   "source": [
    "### EDA USER REVIEW ANALYSIS"
   ]
  },
  {
   "cell_type": "code",
   "execution_count": 371,
   "metadata": {},
   "outputs": [
    {
     "data": {
      "text/html": [
       "<div>\n",
       "<style scoped>\n",
       "    .dataframe tbody tr th:only-of-type {\n",
       "        vertical-align: middle;\n",
       "    }\n",
       "\n",
       "    .dataframe tbody tr th {\n",
       "        vertical-align: top;\n",
       "    }\n",
       "\n",
       "    .dataframe thead th {\n",
       "        text-align: right;\n",
       "    }\n",
       "</style>\n",
       "<table border=\"1\" class=\"dataframe\">\n",
       "  <thead>\n",
       "    <tr style=\"text-align: right;\">\n",
       "      <th></th>\n",
       "      <th>User_Id</th>\n",
       "      <th>Item_Id</th>\n",
       "      <th>Recommend</th>\n",
       "      <th>Year</th>\n",
       "      <th>Sentiment_Score</th>\n",
       "    </tr>\n",
       "  </thead>\n",
       "  <tbody>\n",
       "    <tr>\n",
       "      <th>0</th>\n",
       "      <td>76561197970982479</td>\n",
       "      <td>1250</td>\n",
       "      <td>True</td>\n",
       "      <td>2011</td>\n",
       "      <td>2</td>\n",
       "    </tr>\n",
       "  </tbody>\n",
       "</table>\n",
       "</div>"
      ],
      "text/plain": [
       "             User_Id Item_Id  Recommend  Year  Sentiment_Score\n",
       "0  76561197970982479    1250       True  2011                2"
      ]
     },
     "execution_count": 371,
     "metadata": {},
     "output_type": "execute_result"
    }
   ],
   "source": [
    "df_EDA_reviews = pd.read_parquet('ML_data/EDA_user_reviews.gzip')\n",
    "df_EDA_reviews.head(1)"
   ]
  },
  {
   "cell_type": "code",
   "execution_count": 372,
   "metadata": {},
   "outputs": [
    {
     "data": {
      "text/plain": [
       "count    48498.000000\n",
       "mean      2014.148150\n",
       "std          0.842611\n",
       "min       2010.000000\n",
       "25%       2014.000000\n",
       "50%       2014.000000\n",
       "75%       2015.000000\n",
       "max       2015.000000\n",
       "Name: Year, dtype: float64"
      ]
     },
     "execution_count": 372,
     "metadata": {},
     "output_type": "execute_result"
    }
   ],
   "source": [
    "df_EDA_reviews['Year'].describe()"
   ]
  },
  {
   "cell_type": "code",
   "execution_count": 373,
   "metadata": {},
   "outputs": [
    {
     "name": "stdout",
     "output_type": "stream",
     "text": [
      "<class 'pandas.core.series.Series'>\n",
      "Index: 48498 entries, 0 to 25780\n",
      "Series name: Sentiment_Score\n",
      "Non-Null Count  Dtype\n",
      "--------------  -----\n",
      "48498 non-null  int64\n",
      "dtypes: int64(1)\n",
      "memory usage: 757.8 KB\n"
     ]
    }
   ],
   "source": [
    "df_EDA_reviews['Sentiment_Score'].info()"
   ]
  },
  {
   "cell_type": "code",
   "execution_count": 374,
   "metadata": {},
   "outputs": [
    {
     "name": "stdout",
     "output_type": "stream",
     "text": [
      "Sentiment_Score\n",
      "2    40900\n",
      "0     7571\n",
      "1       27\n",
      "Name: count, dtype: int64\n"
     ]
    }
   ],
   "source": [
    "# Use value_counts to count the frequency of each unique value in 'sentiment' column\n",
    "value_counts_sentiment = df_EDA_reviews['Sentiment_Score'].value_counts()\n",
    "# Print the result\n",
    "print(value_counts_sentiment)"
   ]
  },
  {
   "cell_type": "markdown",
   "metadata": {},
   "source": [
    "### EDA USER ITEM ANALYSIS"
   ]
  },
  {
   "cell_type": "code",
   "execution_count": 375,
   "metadata": {},
   "outputs": [
    {
     "data": {
      "text/html": [
       "<div>\n",
       "<style scoped>\n",
       "    .dataframe tbody tr th:only-of-type {\n",
       "        vertical-align: middle;\n",
       "    }\n",
       "\n",
       "    .dataframe tbody tr th {\n",
       "        vertical-align: top;\n",
       "    }\n",
       "\n",
       "    .dataframe thead th {\n",
       "        text-align: right;\n",
       "    }\n",
       "</style>\n",
       "<table border=\"1\" class=\"dataframe\">\n",
       "  <thead>\n",
       "    <tr style=\"text-align: right;\">\n",
       "      <th></th>\n",
       "      <th>Item_Id</th>\n",
       "      <th>Item_Name</th>\n",
       "      <th>Playtime_Forever</th>\n",
       "      <th>User_Id</th>\n",
       "    </tr>\n",
       "  </thead>\n",
       "  <tbody>\n",
       "    <tr>\n",
       "      <th>17973</th>\n",
       "      <td>200210</td>\n",
       "      <td>Realm of the Mad God</td>\n",
       "      <td>166.0</td>\n",
       "      <td>--000--</td>\n",
       "    </tr>\n",
       "  </tbody>\n",
       "</table>\n",
       "</div>"
      ],
      "text/plain": [
       "      Item_Id             Item_Name  Playtime_Forever  User_Id\n",
       "17973  200210  Realm of the Mad God             166.0  --000--"
      ]
     },
     "execution_count": 375,
     "metadata": {},
     "output_type": "execute_result"
    }
   ],
   "source": [
    "df_EDA_items = pd.read_parquet('ML_data/EDA_user_items.gzip')\n",
    "df_EDA_items.head(1)"
   ]
  },
  {
   "cell_type": "code",
   "execution_count": 376,
   "metadata": {},
   "outputs": [
    {
     "data": {
      "text/plain": [
       "count    5.094105e+06\n",
       "mean     9.905511e+02\n",
       "std      5.414297e+03\n",
       "min      0.000000e+00\n",
       "25%      0.000000e+00\n",
       "50%      3.400000e+01\n",
       "75%      3.550000e+02\n",
       "max      6.427730e+05\n",
       "Name: Playtime_Forever, dtype: float64"
      ]
     },
     "execution_count": 376,
     "metadata": {},
     "output_type": "execute_result"
    }
   ],
   "source": [
    "df_EDA_items['Playtime_Forever'].describe()"
   ]
  },
  {
   "cell_type": "code",
   "execution_count": 377,
   "metadata": {},
   "outputs": [
    {
     "data": {
      "text/plain": [
       "Playtime_Forever\n",
       "0.0         1847730\n",
       "1.0          101586\n",
       "2.0           34391\n",
       "3.0           31530\n",
       "4.0           29127\n",
       "             ...   \n",
       "28671.0           1\n",
       "193520.0          1\n",
       "30500.0           1\n",
       "39459.0           1\n",
       "57545.0           1\n",
       "Name: count, Length: 48861, dtype: int64"
      ]
     },
     "execution_count": 377,
     "metadata": {},
     "output_type": "execute_result"
    }
   ],
   "source": [
    "df_EDA_items['Playtime_Forever'].value_counts()"
   ]
  },
  {
   "cell_type": "code",
   "execution_count": 378,
   "metadata": {},
   "outputs": [
    {
     "data": {
      "text/html": [
       "<div>\n",
       "<style scoped>\n",
       "    .dataframe tbody tr th:only-of-type {\n",
       "        vertical-align: middle;\n",
       "    }\n",
       "\n",
       "    .dataframe tbody tr th {\n",
       "        vertical-align: top;\n",
       "    }\n",
       "\n",
       "    .dataframe thead th {\n",
       "        text-align: right;\n",
       "    }\n",
       "</style>\n",
       "<table border=\"1\" class=\"dataframe\">\n",
       "  <thead>\n",
       "    <tr style=\"text-align: right;\">\n",
       "      <th></th>\n",
       "      <th>Item_Id</th>\n",
       "      <th>Item_Name</th>\n",
       "      <th>Playtime_Forever</th>\n",
       "      <th>User_Id</th>\n",
       "    </tr>\n",
       "  </thead>\n",
       "  <tbody>\n",
       "    <tr>\n",
       "      <th>17973</th>\n",
       "      <td>200210</td>\n",
       "      <td>Realm of the Mad God</td>\n",
       "      <td>166.0</td>\n",
       "      <td>--000--</td>\n",
       "    </tr>\n",
       "    <tr>\n",
       "      <th>17973</th>\n",
       "      <td>263760</td>\n",
       "      <td>Turbo Dismount</td>\n",
       "      <td>244.0</td>\n",
       "      <td>--000--</td>\n",
       "    </tr>\n",
       "    <tr>\n",
       "      <th>17973</th>\n",
       "      <td>233190</td>\n",
       "      <td>Final Exam</td>\n",
       "      <td>193.0</td>\n",
       "      <td>--000--</td>\n",
       "    </tr>\n",
       "    <tr>\n",
       "      <th>17973</th>\n",
       "      <td>218620</td>\n",
       "      <td>PAYDAY 2</td>\n",
       "      <td>416.0</td>\n",
       "      <td>--000--</td>\n",
       "    </tr>\n",
       "    <tr>\n",
       "      <th>17973</th>\n",
       "      <td>225640</td>\n",
       "      <td>Sacred 2 Gold</td>\n",
       "      <td>5.0</td>\n",
       "      <td>--000--</td>\n",
       "    </tr>\n",
       "    <tr>\n",
       "      <th>...</th>\n",
       "      <td>...</td>\n",
       "      <td>...</td>\n",
       "      <td>...</td>\n",
       "      <td>...</td>\n",
       "    </tr>\n",
       "    <tr>\n",
       "      <th>54116</th>\n",
       "      <td>17080</td>\n",
       "      <td>Tribes: Ascend</td>\n",
       "      <td>475.0</td>\n",
       "      <td>zzzmidmiss</td>\n",
       "    </tr>\n",
       "    <tr>\n",
       "      <th>54116</th>\n",
       "      <td>105430</td>\n",
       "      <td>Age of Empires Online</td>\n",
       "      <td>358.0</td>\n",
       "      <td>zzzmidmiss</td>\n",
       "    </tr>\n",
       "    <tr>\n",
       "      <th>54116</th>\n",
       "      <td>113400</td>\n",
       "      <td>APB Reloaded</td>\n",
       "      <td>16.0</td>\n",
       "      <td>zzzmidmiss</td>\n",
       "    </tr>\n",
       "    <tr>\n",
       "      <th>54116</th>\n",
       "      <td>200390</td>\n",
       "      <td>Oil Rush</td>\n",
       "      <td>45.0</td>\n",
       "      <td>zzzmidmiss</td>\n",
       "    </tr>\n",
       "    <tr>\n",
       "      <th>54116</th>\n",
       "      <td>202750</td>\n",
       "      <td>Alan Wake's American Nightmare</td>\n",
       "      <td>3.0</td>\n",
       "      <td>zzzmidmiss</td>\n",
       "    </tr>\n",
       "  </tbody>\n",
       "</table>\n",
       "<p>3246375 rows × 4 columns</p>\n",
       "</div>"
      ],
      "text/plain": [
       "      Item_Id                       Item_Name  Playtime_Forever     User_Id\n",
       "17973  200210            Realm of the Mad God             166.0     --000--\n",
       "17973  263760                  Turbo Dismount             244.0     --000--\n",
       "17973  233190                      Final Exam             193.0     --000--\n",
       "17973  218620                        PAYDAY 2             416.0     --000--\n",
       "17973  225640                   Sacred 2 Gold               5.0     --000--\n",
       "...       ...                             ...               ...         ...\n",
       "54116   17080                  Tribes: Ascend             475.0  zzzmidmiss\n",
       "54116  105430           Age of Empires Online             358.0  zzzmidmiss\n",
       "54116  113400                    APB Reloaded              16.0  zzzmidmiss\n",
       "54116  200390                        Oil Rush              45.0  zzzmidmiss\n",
       "54116  202750  Alan Wake's American Nightmare               3.0  zzzmidmiss\n",
       "\n",
       "[3246375 rows x 4 columns]"
      ]
     },
     "execution_count": 378,
     "metadata": {},
     "output_type": "execute_result"
    }
   ],
   "source": [
    "# Filter the DataFrame to remove rows where 'Playtime_Forever' is 0\n",
    "df_EDA_items = df_EDA_items[df_EDA_items['Playtime_Forever'] != 0]\n",
    "# Display the filtered DataFrame\n",
    "df_EDA_items"
   ]
  },
  {
   "cell_type": "code",
   "execution_count": 379,
   "metadata": {},
   "outputs": [
    {
     "data": {
      "text/plain": [
       "Playtime_Forever\n",
       "1.0        101586\n",
       "2.0         34391\n",
       "3.0         31530\n",
       "4.0         29127\n",
       "5.0         27612\n",
       "            ...  \n",
       "23112.0         1\n",
       "44840.0         1\n",
       "34509.0         1\n",
       "89537.0         1\n",
       "57545.0         1\n",
       "Name: count, Length: 48860, dtype: int64"
      ]
     },
     "execution_count": 379,
     "metadata": {},
     "output_type": "execute_result"
    }
   ],
   "source": [
    "df_EDA_items['Playtime_Forever'].value_counts()"
   ]
  },
  {
   "cell_type": "code",
   "execution_count": 380,
   "metadata": {},
   "outputs": [
    {
     "name": "stdout",
     "output_type": "stream",
     "text": [
      "First quartile (Q1): 44.0\n",
      "Median (Q2): 205.0\n",
      "Third quartile (Q3): 808.0\n"
     ]
    }
   ],
   "source": [
    "# Calculate the first quartile (Q1)\n",
    "q1 = df_EDA_items['Playtime_Forever'].quantile(0.25)\n",
    "# Calculate the median (Q2)\n",
    "q2 = df_EDA_items['Playtime_Forever'].quantile(0.5)\n",
    "# Calculate the third quartile (Q3)\n",
    "q3 = df_EDA_items['Playtime_Forever'].quantile(0.75)\n",
    "# Print the quartile values\n",
    "print(\"First quartile (Q1):\", q1)\n",
    "print(\"Median (Q2):\", q2)\n",
    "print(\"Third quartile (Q3):\", q3)"
   ]
  },
  {
   "cell_type": "code",
   "execution_count": 381,
   "metadata": {},
   "outputs": [
    {
     "name": "stdout",
     "output_type": "stream",
     "text": [
      "Outlier values:\n",
      "      Item_Id                                     Item_Name  Playtime_Forever  \\\n",
      "17973  113400                                  APB Reloaded            2763.0   \n",
      "17973  339610                 FreeStyle2: Street Basketball            5502.0   \n",
      "17973  304930                                      Unturned            4037.0   \n",
      "17973  304050                                         Trove            4260.0   \n",
      "17973     730              Counter-Strike: Global Offensive          107119.0   \n",
      "...       ...                                           ...               ...   \n",
      "18483   42690  Call of Duty: Modern Warfare 3 - Multiplayer            9890.0   \n",
      "18483  202990      Call of Duty: Black Ops II - Multiplayer           16779.0   \n",
      "18483     730              Counter-Strike: Global Offensive            9308.0   \n",
      "18483  110800                                    L.A. Noire            2175.0   \n",
      "54116   49520                                 Borderlands 2            2156.0   \n",
      "\n",
      "          User_Id  \n",
      "17973     --000--  \n",
      "17973     --000--  \n",
      "17973     --000--  \n",
      "17973     --000--  \n",
      "17973     --000--  \n",
      "...           ...  \n",
      "18483       zzyfo  \n",
      "18483       zzyfo  \n",
      "18483       zzyfo  \n",
      "18483       zzyfo  \n",
      "54116  zzzmidmiss  \n",
      "\n",
      "[431373 rows x 4 columns]\n",
      "Playtime_Forever\n",
      "1955.0     199\n",
      "1976.0     196\n",
      "1958.0     196\n",
      "1972.0     195\n",
      "1997.0     195\n",
      "          ... \n",
      "44542.0      1\n",
      "66243.0      1\n",
      "33941.0      1\n",
      "34135.0      1\n",
      "57545.0      1\n",
      "Name: count, Length: 46906, dtype: int64\n"
     ]
    }
   ],
   "source": [
    "# Calculate the first quartile (Q1) and the third quartile (Q3)\n",
    "Q1 = df_EDA_items['Playtime_Forever'].quantile(0.25)\n",
    "Q3 = df_EDA_items['Playtime_Forever'].quantile(0.75)\n",
    "# Calculate the interquartile range (IQR)\n",
    "IQR = Q3 - Q1\n",
    "# Calculate the limits for outliers\n",
    "lower_limit = Q1 - 1.5 * IQR\n",
    "upper_limit = Q3 + 1.5 * IQR\n",
    "# Identify the outliers\n",
    "outliers = df_EDA_items[(df_EDA_items['Playtime_Forever'] < lower_limit) | (df_EDA_items['Playtime_Forever'] > upper_limit)]\n",
    "# Print the outliers\n",
    "print(\"Outlier values:\")\n",
    "print(outliers)\n",
    "print(outliers['Playtime_Forever'].value_counts())"
   ]
  },
  {
   "cell_type": "code",
   "execution_count": 382,
   "metadata": {},
   "outputs": [
    {
     "data": {
      "text/html": [
       "<div>\n",
       "<style scoped>\n",
       "    .dataframe tbody tr th:only-of-type {\n",
       "        vertical-align: middle;\n",
       "    }\n",
       "\n",
       "    .dataframe tbody tr th {\n",
       "        vertical-align: top;\n",
       "    }\n",
       "\n",
       "    .dataframe thead th {\n",
       "        text-align: right;\n",
       "    }\n",
       "</style>\n",
       "<table border=\"1\" class=\"dataframe\">\n",
       "  <thead>\n",
       "    <tr style=\"text-align: right;\">\n",
       "      <th></th>\n",
       "      <th>Item_Id</th>\n",
       "      <th>Item_Name</th>\n",
       "      <th>Playtime_Forever</th>\n",
       "      <th>User_Id</th>\n",
       "      <th>playtime_categories</th>\n",
       "    </tr>\n",
       "  </thead>\n",
       "  <tbody>\n",
       "    <tr>\n",
       "      <th>17973</th>\n",
       "      <td>200210</td>\n",
       "      <td>Realm of the Mad God</td>\n",
       "      <td>166.0</td>\n",
       "      <td>--000--</td>\n",
       "      <td>2</td>\n",
       "    </tr>\n",
       "    <tr>\n",
       "      <th>17973</th>\n",
       "      <td>263760</td>\n",
       "      <td>Turbo Dismount</td>\n",
       "      <td>244.0</td>\n",
       "      <td>--000--</td>\n",
       "      <td>2</td>\n",
       "    </tr>\n",
       "    <tr>\n",
       "      <th>17973</th>\n",
       "      <td>233190</td>\n",
       "      <td>Final Exam</td>\n",
       "      <td>193.0</td>\n",
       "      <td>--000--</td>\n",
       "      <td>2</td>\n",
       "    </tr>\n",
       "    <tr>\n",
       "      <th>17973</th>\n",
       "      <td>218620</td>\n",
       "      <td>PAYDAY 2</td>\n",
       "      <td>416.0</td>\n",
       "      <td>--000--</td>\n",
       "      <td>3</td>\n",
       "    </tr>\n",
       "    <tr>\n",
       "      <th>17973</th>\n",
       "      <td>225640</td>\n",
       "      <td>Sacred 2 Gold</td>\n",
       "      <td>5.0</td>\n",
       "      <td>--000--</td>\n",
       "      <td>0</td>\n",
       "    </tr>\n",
       "    <tr>\n",
       "      <th>...</th>\n",
       "      <td>...</td>\n",
       "      <td>...</td>\n",
       "      <td>...</td>\n",
       "      <td>...</td>\n",
       "      <td>...</td>\n",
       "    </tr>\n",
       "    <tr>\n",
       "      <th>54116</th>\n",
       "      <td>17080</td>\n",
       "      <td>Tribes: Ascend</td>\n",
       "      <td>475.0</td>\n",
       "      <td>zzzmidmiss</td>\n",
       "      <td>3</td>\n",
       "    </tr>\n",
       "    <tr>\n",
       "      <th>54116</th>\n",
       "      <td>105430</td>\n",
       "      <td>Age of Empires Online</td>\n",
       "      <td>358.0</td>\n",
       "      <td>zzzmidmiss</td>\n",
       "      <td>3</td>\n",
       "    </tr>\n",
       "    <tr>\n",
       "      <th>54116</th>\n",
       "      <td>113400</td>\n",
       "      <td>APB Reloaded</td>\n",
       "      <td>16.0</td>\n",
       "      <td>zzzmidmiss</td>\n",
       "      <td>0</td>\n",
       "    </tr>\n",
       "    <tr>\n",
       "      <th>54116</th>\n",
       "      <td>200390</td>\n",
       "      <td>Oil Rush</td>\n",
       "      <td>45.0</td>\n",
       "      <td>zzzmidmiss</td>\n",
       "      <td>1</td>\n",
       "    </tr>\n",
       "    <tr>\n",
       "      <th>54116</th>\n",
       "      <td>202750</td>\n",
       "      <td>Alan Wake's American Nightmare</td>\n",
       "      <td>3.0</td>\n",
       "      <td>zzzmidmiss</td>\n",
       "      <td>0</td>\n",
       "    </tr>\n",
       "  </tbody>\n",
       "</table>\n",
       "<p>3246375 rows × 5 columns</p>\n",
       "</div>"
      ],
      "text/plain": [
       "      Item_Id                       Item_Name  Playtime_Forever     User_Id  \\\n",
       "17973  200210            Realm of the Mad God             166.0     --000--   \n",
       "17973  263760                  Turbo Dismount             244.0     --000--   \n",
       "17973  233190                      Final Exam             193.0     --000--   \n",
       "17973  218620                        PAYDAY 2             416.0     --000--   \n",
       "17973  225640                   Sacred 2 Gold               5.0     --000--   \n",
       "...       ...                             ...               ...         ...   \n",
       "54116   17080                  Tribes: Ascend             475.0  zzzmidmiss   \n",
       "54116  105430           Age of Empires Online             358.0  zzzmidmiss   \n",
       "54116  113400                    APB Reloaded              16.0  zzzmidmiss   \n",
       "54116  200390                        Oil Rush              45.0  zzzmidmiss   \n",
       "54116  202750  Alan Wake's American Nightmare               3.0  zzzmidmiss   \n",
       "\n",
       "       playtime_categories  \n",
       "17973                    2  \n",
       "17973                    2  \n",
       "17973                    2  \n",
       "17973                    3  \n",
       "17973                    0  \n",
       "...                    ...  \n",
       "54116                    3  \n",
       "54116                    3  \n",
       "54116                    0  \n",
       "54116                    1  \n",
       "54116                    0  \n",
       "\n",
       "[3246375 rows x 5 columns]"
      ]
     },
     "execution_count": 382,
     "metadata": {},
     "output_type": "execute_result"
    }
   ],
   "source": [
    "# Define the desired number of categories or leave it to qcut\n",
    "num_categories = 5  # You can adjust this value according to your preferences or leave it as None\n",
    "# Use qcut to automatically create the categories\n",
    "if num_categories:\n",
    "    categories = pd.qcut(df_EDA_items['Playtime_Forever'], q=num_categories, labels=False)\n",
    "else:\n",
    "    categories = pd.qcut(df_EDA_items['Playtime_Forever'], labels=False)\n",
    "# Add the categories to the DataFrame\n",
    "df_EDA_items['playtime_categories'] = categories\n",
    "# View the resulting DataFrame\n",
    "df_EDA_items\n"
   ]
  },
  {
   "cell_type": "code",
   "execution_count": 383,
   "metadata": {},
   "outputs": [],
   "source": [
    "# Calculate quantile limits and assign categories\n",
    "categories, quantile_limits = pd.qcut(df_EDA_items['Playtime_Forever'], q=6, retbins=True, labels=False)"
   ]
  },
  {
   "cell_type": "code",
   "execution_count": 384,
   "metadata": {},
   "outputs": [
    {
     "name": "stdout",
     "output_type": "stream",
     "text": [
      "Lower limit of category 0: 1.0\n",
      "Upper limit of category 0: 22.0\n",
      "Lower limit of category 1: 22.0\n",
      "Upper limit of category 1: 78.0\n",
      "Lower limit of category 2: 78.0\n",
      "Upper limit of category 2: 205.0\n",
      "Lower limit of category 3: 205.0\n",
      "Upper limit of category 3: 494.0\n",
      "Lower limit of category 4: 494.0\n",
      "Upper limit of category 4: 1454.0\n",
      "Lower limit of category 5: 1454.0\n",
      "Upper limit of category 5: 642773.0\n"
     ]
    }
   ],
   "source": [
    "# Find the limits for category 0\n",
    "lower_limit_0 = quantile_limits[0]\n",
    "upper_limit_0 = quantile_limits[1]\n",
    "# Print the limits for category 0\n",
    "print(f\"Lower limit of category 0: {lower_limit_0}\")\n",
    "print(f\"Upper limit of category 0: {upper_limit_0}\")\n",
    "# Find the limits for category 1\n",
    "lower_limit_1 = quantile_limits[1]\n",
    "upper_limit_1 = quantile_limits[2]\n",
    "# Print the limits for category 1\n",
    "print(f\"Lower limit of category 1: {lower_limit_1}\")\n",
    "print(f\"Upper limit of category 1: {upper_limit_1}\")\n",
    "# Find the limits for category 2\n",
    "lower_limit_2 = quantile_limits[2]\n",
    "upper_limit_2 = quantile_limits[3]\n",
    "# Print the limits for category 2\n",
    "print(f\"Lower limit of category 2: {lower_limit_2}\")\n",
    "print(f\"Upper limit of category 2: {upper_limit_2}\")\n",
    "# Find the limits for category 3\n",
    "lower_limit_3 = quantile_limits[3]\n",
    "upper_limit_3 = quantile_limits[4]\n",
    "# Print the limits for category 3\n",
    "print(f\"Lower limit of category 3: {lower_limit_3}\")\n",
    "print(f\"Upper limit of category 3: {upper_limit_3}\")\n",
    "# Find the limits for category 4\n",
    "lower_limit_4 = quantile_limits[4]\n",
    "upper_limit_4 = quantile_limits[5]\n",
    "# Print the limits for category 4\n",
    "print(f\"Lower limit of category 4: {lower_limit_4}\")\n",
    "print(f\"Upper limit of category 4: {upper_limit_4}\")\n",
    "# Find the limits for category 5\n",
    "lower_limit_5 = quantile_limits[5]\n",
    "upper_limit_5 = quantile_limits[6]\n",
    "# Print the limits for category 5\n",
    "print(f\"Lower limit of category 5: {lower_limit_5}\")\n",
    "print(f\"Upper limit of category 5: {upper_limit_5}\")"
   ]
  },
  {
   "cell_type": "markdown",
   "metadata": {},
   "source": [
    "### GENRE TYPES"
   ]
  },
  {
   "cell_type": "code",
   "execution_count": 385,
   "metadata": {},
   "outputs": [
    {
     "data": {
      "text/html": [
       "<div>\n",
       "<style scoped>\n",
       "    .dataframe tbody tr th:only-of-type {\n",
       "        vertical-align: middle;\n",
       "    }\n",
       "\n",
       "    .dataframe tbody tr th {\n",
       "        vertical-align: top;\n",
       "    }\n",
       "\n",
       "    .dataframe thead th {\n",
       "        text-align: right;\n",
       "    }\n",
       "</style>\n",
       "<table border=\"1\" class=\"dataframe\">\n",
       "  <thead>\n",
       "    <tr style=\"text-align: right;\">\n",
       "      <th></th>\n",
       "      <th>Id</th>\n",
       "      <th>App_Name</th>\n",
       "      <th>Price</th>\n",
       "      <th>Release_Year</th>\n",
       "      <th>Genres</th>\n",
       "      <th>Early_Access</th>\n",
       "      <th>Specs</th>\n",
       "      <th>Developer</th>\n",
       "      <th>Price_range</th>\n",
       "    </tr>\n",
       "  </thead>\n",
       "  <tbody>\n",
       "  </tbody>\n",
       "</table>\n",
       "</div>"
      ],
      "text/plain": [
       "Empty DataFrame\n",
       "Columns: [Id, App_Name, Price, Release_Year, Genres, Early_Access, Specs, Developer, Price_range]\n",
       "Index: []"
      ]
     },
     "execution_count": 385,
     "metadata": {},
     "output_type": "execute_result"
    }
   ],
   "source": [
    "df_EDA_steam.head(0)"
   ]
  },
  {
   "cell_type": "code",
   "execution_count": 386,
   "metadata": {},
   "outputs": [
    {
     "name": "stdout",
     "output_type": "stream",
     "text": [
      "<class 'pandas.core.series.Series'>\n",
      "Index: 116160 entries, 88310 to 120443\n",
      "Series name: Genres\n",
      "Non-Null Count   Dtype \n",
      "--------------   ----- \n",
      "116160 non-null  object\n",
      "dtypes: object(1)\n",
      "memory usage: 1.8+ MB\n"
     ]
    }
   ],
   "source": [
    "df_EDA_steam['Genres'].info()"
   ]
  },
  {
   "cell_type": "code",
   "execution_count": 387,
   "metadata": {},
   "outputs": [
    {
     "data": {
      "text/plain": [
       "count     116160\n",
       "unique        21\n",
       "top        indie\n",
       "freq       24601\n",
       "Name: Genres, dtype: object"
      ]
     },
     "execution_count": 387,
     "metadata": {},
     "output_type": "execute_result"
    }
   ],
   "source": [
    "df_EDA_steam['Genres'].describe()"
   ]
  },
  {
   "cell_type": "code",
   "execution_count": 388,
   "metadata": {},
   "outputs": [
    {
     "data": {
      "text/plain": [
       "Genres\n",
       "indie                        24601\n",
       "action                       19308\n",
       "simulation                   13696\n",
       "casual                       13447\n",
       "strategy                     11639\n",
       "adventure                    10877\n",
       "rpg                           8427\n",
       "free to play                  3490\n",
       "sports                        3195\n",
       "racing                        2371\n",
       "early access                  1924\n",
       "massively multiplayer         1901\n",
       "design &amp; illustration      424\n",
       "utilities                      248\n",
       "web publishing                 222\n",
       "photo editing                  121\n",
       "animation &amp; modeling       116\n",
       "education                       57\n",
       "software training               40\n",
       "video production                30\n",
       "audio production                26\n",
       "Name: count, dtype: int64"
      ]
     },
     "execution_count": 388,
     "metadata": {},
     "output_type": "execute_result"
    }
   ],
   "source": [
    "df_EDA_steam['Genres'].value_counts()"
   ]
  },
  {
   "cell_type": "code",
   "execution_count": 389,
   "metadata": {},
   "outputs": [
    {
     "name": "stdout",
     "output_type": "stream",
     "text": [
      "<class 'pandas.core.series.Series'>\n",
      "Index: 48498 entries, 0 to 25780\n",
      "Series name: Recommend\n",
      "Non-Null Count  Dtype\n",
      "--------------  -----\n",
      "48498 non-null  bool \n",
      "dtypes: bool(1)\n",
      "memory usage: 426.3 KB\n"
     ]
    }
   ],
   "source": [
    "df_EDA_reviews['Recommend'].info()"
   ]
  },
  {
   "cell_type": "code",
   "execution_count": 390,
   "metadata": {},
   "outputs": [
    {
     "data": {
      "text/plain": [
       "count     48498\n",
       "unique        2\n",
       "top        True\n",
       "freq      43557\n",
       "Name: Recommend, dtype: object"
      ]
     },
     "execution_count": 390,
     "metadata": {},
     "output_type": "execute_result"
    }
   ],
   "source": [
    "df_EDA_reviews['Recommend'].describe()"
   ]
  },
  {
   "cell_type": "code",
   "execution_count": 391,
   "metadata": {},
   "outputs": [],
   "source": [
    "# Replace 'True' with 1 and 'False' with 0 in the 'recommend' column\n",
    "df_EDA_reviews['Recommend'] = df_EDA_reviews['Recommend'].replace({True: 1, False: 0})"
   ]
  },
  {
   "cell_type": "code",
   "execution_count": 392,
   "metadata": {},
   "outputs": [
    {
     "data": {
      "text/html": [
       "<div>\n",
       "<style scoped>\n",
       "    .dataframe tbody tr th:only-of-type {\n",
       "        vertical-align: middle;\n",
       "    }\n",
       "\n",
       "    .dataframe tbody tr th {\n",
       "        vertical-align: top;\n",
       "    }\n",
       "\n",
       "    .dataframe thead th {\n",
       "        text-align: right;\n",
       "    }\n",
       "</style>\n",
       "<table border=\"1\" class=\"dataframe\">\n",
       "  <thead>\n",
       "    <tr style=\"text-align: right;\">\n",
       "      <th></th>\n",
       "      <th>Id</th>\n",
       "      <th>App_Name</th>\n",
       "      <th>Price_range</th>\n",
       "      <th>Release_Year</th>\n",
       "      <th>Genres</th>\n",
       "    </tr>\n",
       "  </thead>\n",
       "  <tbody>\n",
       "    <tr>\n",
       "      <th>88310</th>\n",
       "      <td>761140</td>\n",
       "      <td>Lost Summoner Kitty</td>\n",
       "      <td>2</td>\n",
       "      <td>2018</td>\n",
       "      <td>action</td>\n",
       "    </tr>\n",
       "    <tr>\n",
       "      <th>88310</th>\n",
       "      <td>761140</td>\n",
       "      <td>Lost Summoner Kitty</td>\n",
       "      <td>2</td>\n",
       "      <td>2018</td>\n",
       "      <td>casual</td>\n",
       "    </tr>\n",
       "    <tr>\n",
       "      <th>88310</th>\n",
       "      <td>761140</td>\n",
       "      <td>Lost Summoner Kitty</td>\n",
       "      <td>2</td>\n",
       "      <td>2018</td>\n",
       "      <td>indie</td>\n",
       "    </tr>\n",
       "    <tr>\n",
       "      <th>88310</th>\n",
       "      <td>761140</td>\n",
       "      <td>Lost Summoner Kitty</td>\n",
       "      <td>2</td>\n",
       "      <td>2018</td>\n",
       "      <td>simulation</td>\n",
       "    </tr>\n",
       "    <tr>\n",
       "      <th>88310</th>\n",
       "      <td>761140</td>\n",
       "      <td>Lost Summoner Kitty</td>\n",
       "      <td>2</td>\n",
       "      <td>2018</td>\n",
       "      <td>strategy</td>\n",
       "    </tr>\n",
       "    <tr>\n",
       "      <th>...</th>\n",
       "      <td>...</td>\n",
       "      <td>...</td>\n",
       "      <td>...</td>\n",
       "      <td>...</td>\n",
       "      <td>...</td>\n",
       "    </tr>\n",
       "    <tr>\n",
       "      <th>120443</th>\n",
       "      <td>658870</td>\n",
       "      <td>Exit Directions</td>\n",
       "      <td>2</td>\n",
       "      <td>2017</td>\n",
       "      <td>casual</td>\n",
       "    </tr>\n",
       "    <tr>\n",
       "      <th>120443</th>\n",
       "      <td>658870</td>\n",
       "      <td>Exit Directions</td>\n",
       "      <td>2</td>\n",
       "      <td>2017</td>\n",
       "      <td>casual</td>\n",
       "    </tr>\n",
       "    <tr>\n",
       "      <th>120443</th>\n",
       "      <td>658870</td>\n",
       "      <td>Exit Directions</td>\n",
       "      <td>2</td>\n",
       "      <td>2017</td>\n",
       "      <td>indie</td>\n",
       "    </tr>\n",
       "    <tr>\n",
       "      <th>120443</th>\n",
       "      <td>658870</td>\n",
       "      <td>Exit Directions</td>\n",
       "      <td>2</td>\n",
       "      <td>2017</td>\n",
       "      <td>indie</td>\n",
       "    </tr>\n",
       "    <tr>\n",
       "      <th>120443</th>\n",
       "      <td>658870</td>\n",
       "      <td>Exit Directions</td>\n",
       "      <td>2</td>\n",
       "      <td>2017</td>\n",
       "      <td>indie</td>\n",
       "    </tr>\n",
       "  </tbody>\n",
       "</table>\n",
       "<p>116160 rows × 5 columns</p>\n",
       "</div>"
      ],
      "text/plain": [
       "            Id             App_Name  Price_range  Release_Year      Genres\n",
       "88310   761140  Lost Summoner Kitty            2          2018      action\n",
       "88310   761140  Lost Summoner Kitty            2          2018      casual\n",
       "88310   761140  Lost Summoner Kitty            2          2018       indie\n",
       "88310   761140  Lost Summoner Kitty            2          2018  simulation\n",
       "88310   761140  Lost Summoner Kitty            2          2018    strategy\n",
       "...        ...                  ...          ...           ...         ...\n",
       "120443  658870      Exit Directions            2          2017      casual\n",
       "120443  658870      Exit Directions            2          2017      casual\n",
       "120443  658870      Exit Directions            2          2017       indie\n",
       "120443  658870      Exit Directions            2          2017       indie\n",
       "120443  658870      Exit Directions            2          2017       indie\n",
       "\n",
       "[116160 rows x 5 columns]"
      ]
     },
     "execution_count": 392,
     "metadata": {},
     "output_type": "execute_result"
    }
   ],
   "source": [
    "df_EDA_steam = df_EDA_steam [['Id', 'App_Name', 'Price_range', 'Release_Year', 'Genres']]\n",
    "df_EDA_steam"
   ]
  },
  {
   "cell_type": "code",
   "execution_count": 393,
   "metadata": {},
   "outputs": [],
   "source": [
    "df_EDA_steam.to_parquet('ML_data/ML_steam_EDA.gzip')"
   ]
  },
  {
   "cell_type": "code",
   "execution_count": 394,
   "metadata": {},
   "outputs": [
    {
     "data": {
      "text/html": [
       "<div>\n",
       "<style scoped>\n",
       "    .dataframe tbody tr th:only-of-type {\n",
       "        vertical-align: middle;\n",
       "    }\n",
       "\n",
       "    .dataframe tbody tr th {\n",
       "        vertical-align: top;\n",
       "    }\n",
       "\n",
       "    .dataframe thead th {\n",
       "        text-align: right;\n",
       "    }\n",
       "</style>\n",
       "<table border=\"1\" class=\"dataframe\">\n",
       "  <thead>\n",
       "    <tr style=\"text-align: right;\">\n",
       "      <th></th>\n",
       "      <th>User_Id</th>\n",
       "      <th>Item_Id</th>\n",
       "      <th>Recommend</th>\n",
       "      <th>Sentiment_Score</th>\n",
       "    </tr>\n",
       "  </thead>\n",
       "  <tbody>\n",
       "    <tr>\n",
       "      <th>0</th>\n",
       "      <td>76561197970982479</td>\n",
       "      <td>1250</td>\n",
       "      <td>1</td>\n",
       "      <td>2</td>\n",
       "    </tr>\n",
       "    <tr>\n",
       "      <th>0</th>\n",
       "      <td>76561197970982479</td>\n",
       "      <td>22200</td>\n",
       "      <td>1</td>\n",
       "      <td>2</td>\n",
       "    </tr>\n",
       "    <tr>\n",
       "      <th>0</th>\n",
       "      <td>76561197970982479</td>\n",
       "      <td>43110</td>\n",
       "      <td>1</td>\n",
       "      <td>2</td>\n",
       "    </tr>\n",
       "    <tr>\n",
       "      <th>1</th>\n",
       "      <td>js41637</td>\n",
       "      <td>251610</td>\n",
       "      <td>1</td>\n",
       "      <td>2</td>\n",
       "    </tr>\n",
       "    <tr>\n",
       "      <th>1</th>\n",
       "      <td>js41637</td>\n",
       "      <td>227300</td>\n",
       "      <td>1</td>\n",
       "      <td>2</td>\n",
       "    </tr>\n",
       "    <tr>\n",
       "      <th>...</th>\n",
       "      <td>...</td>\n",
       "      <td>...</td>\n",
       "      <td>...</td>\n",
       "      <td>...</td>\n",
       "    </tr>\n",
       "    <tr>\n",
       "      <th>25764</th>\n",
       "      <td>wayfeng</td>\n",
       "      <td>730</td>\n",
       "      <td>1</td>\n",
       "      <td>2</td>\n",
       "    </tr>\n",
       "    <tr>\n",
       "      <th>25765</th>\n",
       "      <td>76561198251004808</td>\n",
       "      <td>253980</td>\n",
       "      <td>1</td>\n",
       "      <td>2</td>\n",
       "    </tr>\n",
       "    <tr>\n",
       "      <th>25769</th>\n",
       "      <td>72947282842</td>\n",
       "      <td>730</td>\n",
       "      <td>1</td>\n",
       "      <td>0</td>\n",
       "    </tr>\n",
       "    <tr>\n",
       "      <th>25771</th>\n",
       "      <td>ApxLGhost</td>\n",
       "      <td>730</td>\n",
       "      <td>1</td>\n",
       "      <td>2</td>\n",
       "    </tr>\n",
       "    <tr>\n",
       "      <th>25780</th>\n",
       "      <td>76561198267374962</td>\n",
       "      <td>369200</td>\n",
       "      <td>1</td>\n",
       "      <td>2</td>\n",
       "    </tr>\n",
       "  </tbody>\n",
       "</table>\n",
       "<p>48498 rows × 4 columns</p>\n",
       "</div>"
      ],
      "text/plain": [
       "                 User_Id Item_Id  Recommend  Sentiment_Score\n",
       "0      76561197970982479    1250          1                2\n",
       "0      76561197970982479   22200          1                2\n",
       "0      76561197970982479   43110          1                2\n",
       "1                js41637  251610          1                2\n",
       "1                js41637  227300          1                2\n",
       "...                  ...     ...        ...              ...\n",
       "25764            wayfeng     730          1                2\n",
       "25765  76561198251004808  253980          1                2\n",
       "25769        72947282842     730          1                0\n",
       "25771          ApxLGhost     730          1                2\n",
       "25780  76561198267374962  369200          1                2\n",
       "\n",
       "[48498 rows x 4 columns]"
      ]
     },
     "execution_count": 394,
     "metadata": {},
     "output_type": "execute_result"
    }
   ],
   "source": [
    "# Selecting specific columns from df_EDA_reviews dataframe\n",
    "df_EDA_reviews_for_ML = df_EDA_reviews[['User_Id', 'Item_Id', 'Recommend', 'Sentiment_Score']]\n",
    "# Define new column names\n",
    "new_column_names = {\n",
    "    'item_id': 'id',\n",
    "}\n",
    "# Rename columns using the 'rename' method\n",
    "df_EDA_reviews_for_ML = df_EDA_reviews_for_ML.rename(columns=new_column_names)\n",
    "df_EDA_reviews_for_ML"
   ]
  },
  {
   "cell_type": "code",
   "execution_count": 395,
   "metadata": {},
   "outputs": [],
   "source": [
    "df_EDA_reviews_for_ML.to_parquet('ML_data/ML_reviews_EDA.gzip')"
   ]
  },
  {
   "cell_type": "code",
   "execution_count": 396,
   "metadata": {},
   "outputs": [],
   "source": [
    "# Selecting specific columns from df_EDA_items dataframe\n",
    "df_EDA_items_for_ML = df_EDA_items[['Item_Id', 'Item_Name', 'User_Id', 'playtime_categories']]\n",
    "# Rename the 'item_id' column to 'id'\n",
    "df_EDA_items_for_ML['Id'] = df_EDA_items_for_ML['Item_Id']\n",
    "# Drop the original 'item_id' column\n",
    "df_EDA_items_for_ML = df_EDA_items_for_ML.drop('Item_Id', axis=1)\n",
    "# Save the dataframe to a CSV file\n",
    "df_EDA_items_for_ML.to_parquet('ML_data/ML_user_items_EDA.gzip', index=False)\n"
   ]
  }
 ],
 "metadata": {
  "kernelspec": {
   "display_name": "Python 3",
   "language": "python",
   "name": "python3"
  },
  "language_info": {
   "codemirror_mode": {
    "name": "ipython",
    "version": 3
   },
   "file_extension": ".py",
   "mimetype": "text/x-python",
   "name": "python",
   "nbconvert_exporter": "python",
   "pygments_lexer": "ipython3",
   "version": "3.11.4"
  }
 },
 "nbformat": 4,
 "nbformat_minor": 2
}
