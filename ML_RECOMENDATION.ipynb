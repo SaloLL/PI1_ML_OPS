{
 "cells": [
  {
   "cell_type": "markdown",
   "metadata": {},
   "source": [
    "## RECOMENDATION ML SYSTEM"
   ]
  },
  {
   "cell_type": "markdown",
   "metadata": {},
   "source": [
    "### Importing Libraries"
   ]
  },
  {
   "cell_type": "code",
   "execution_count": 28,
   "metadata": {},
   "outputs": [],
   "source": [
    "import pandas as pd\n",
    "from sklearn.preprocessing import LabelEncoder\n",
    "import seaborn as sns\n",
    "import matplotlib.pyplot as plt\n",
    "from sklearn.metrics.pairwise import cosine_similarity"
   ]
  },
  {
   "cell_type": "markdown",
   "metadata": {},
   "source": [
    "## Recomendation code"
   ]
  },
  {
   "cell_type": "code",
   "execution_count": 29,
   "metadata": {},
   "outputs": [
    {
     "data": {
      "text/html": [
       "<div>\n",
       "<style scoped>\n",
       "    .dataframe tbody tr th:only-of-type {\n",
       "        vertical-align: middle;\n",
       "    }\n",
       "\n",
       "    .dataframe tbody tr th {\n",
       "        vertical-align: top;\n",
       "    }\n",
       "\n",
       "    .dataframe thead th {\n",
       "        text-align: right;\n",
       "    }\n",
       "</style>\n",
       "<table border=\"1\" class=\"dataframe\">\n",
       "  <thead>\n",
       "    <tr style=\"text-align: right;\">\n",
       "      <th></th>\n",
       "      <th>Id</th>\n",
       "      <th>App_Name</th>\n",
       "    </tr>\n",
       "  </thead>\n",
       "  <tbody>\n",
       "    <tr>\n",
       "      <th>88310</th>\n",
       "      <td>761140</td>\n",
       "      <td>Lost Summoner Kitty</td>\n",
       "    </tr>\n",
       "  </tbody>\n",
       "</table>\n",
       "</div>"
      ],
      "text/plain": [
       "           Id             App_Name\n",
       "88310  761140  Lost Summoner Kitty"
      ]
     },
     "execution_count": 29,
     "metadata": {},
     "output_type": "execute_result"
    }
   ],
   "source": [
    "df_steam = pd.read_parquet('ML_data/ML_steam_EDA.gzip')\n",
    "df_steam = df_steam [['Id','App_Name']]\n",
    "df_steam.head(1)"
   ]
  },
  {
   "cell_type": "code",
   "execution_count": 30,
   "metadata": {},
   "outputs": [
    {
     "data": {
      "text/html": [
       "<div>\n",
       "<style scoped>\n",
       "    .dataframe tbody tr th:only-of-type {\n",
       "        vertical-align: middle;\n",
       "    }\n",
       "\n",
       "    .dataframe tbody tr th {\n",
       "        vertical-align: top;\n",
       "    }\n",
       "\n",
       "    .dataframe thead th {\n",
       "        text-align: right;\n",
       "    }\n",
       "</style>\n",
       "<table border=\"1\" class=\"dataframe\">\n",
       "  <thead>\n",
       "    <tr style=\"text-align: right;\">\n",
       "      <th></th>\n",
       "      <th>User_Id</th>\n",
       "      <th>Id</th>\n",
       "      <th>Sentiment_Score</th>\n",
       "    </tr>\n",
       "  </thead>\n",
       "  <tbody>\n",
       "    <tr>\n",
       "      <th>0</th>\n",
       "      <td>76561197970982479</td>\n",
       "      <td>1250</td>\n",
       "      <td>2</td>\n",
       "    </tr>\n",
       "  </tbody>\n",
       "</table>\n",
       "</div>"
      ],
      "text/plain": [
       "             User_Id    Id  Sentiment_Score\n",
       "0  76561197970982479  1250                2"
      ]
     },
     "execution_count": 30,
     "metadata": {},
     "output_type": "execute_result"
    }
   ],
   "source": [
    "df_reviews = pd.read_parquet('ML_data/ML_reviews_EDA.gzip')\n",
    "df_reviews.rename(columns={'Item_Id': 'Id'}, inplace=True)\n",
    "df_reviews = df_reviews [['User_Id', 'Id', 'Sentiment_Score']]\n",
    "df_reviews.head(1)"
   ]
  },
  {
   "cell_type": "code",
   "execution_count": 31,
   "metadata": {},
   "outputs": [],
   "source": [
    "df_reviews = df_reviews[['User_Id', 'Id', 'Sentiment_Score']].merge(df_steam[['Id', 'App_Name']], on='Id', how='left')"
   ]
  },
  {
   "cell_type": "code",
   "execution_count": 32,
   "metadata": {},
   "outputs": [
    {
     "data": {
      "text/html": [
       "<div>\n",
       "<style scoped>\n",
       "    .dataframe tbody tr th:only-of-type {\n",
       "        vertical-align: middle;\n",
       "    }\n",
       "\n",
       "    .dataframe tbody tr th {\n",
       "        vertical-align: top;\n",
       "    }\n",
       "\n",
       "    .dataframe thead th {\n",
       "        text-align: right;\n",
       "    }\n",
       "</style>\n",
       "<table border=\"1\" class=\"dataframe\">\n",
       "  <thead>\n",
       "    <tr style=\"text-align: right;\">\n",
       "      <th></th>\n",
       "      <th>User_Id</th>\n",
       "      <th>Id</th>\n",
       "      <th>Sentiment_Score</th>\n",
       "      <th>App_Name</th>\n",
       "    </tr>\n",
       "  </thead>\n",
       "  <tbody>\n",
       "    <tr>\n",
       "      <th>0</th>\n",
       "      <td>76561197970982479</td>\n",
       "      <td>1250</td>\n",
       "      <td>2</td>\n",
       "      <td>NaN</td>\n",
       "    </tr>\n",
       "    <tr>\n",
       "      <th>1</th>\n",
       "      <td>76561197970982479</td>\n",
       "      <td>22200</td>\n",
       "      <td>2</td>\n",
       "      <td>NaN</td>\n",
       "    </tr>\n",
       "    <tr>\n",
       "      <th>2</th>\n",
       "      <td>76561197970982479</td>\n",
       "      <td>43110</td>\n",
       "      <td>2</td>\n",
       "      <td>NaN</td>\n",
       "    </tr>\n",
       "    <tr>\n",
       "      <th>3</th>\n",
       "      <td>js41637</td>\n",
       "      <td>251610</td>\n",
       "      <td>2</td>\n",
       "      <td>NaN</td>\n",
       "    </tr>\n",
       "    <tr>\n",
       "      <th>4</th>\n",
       "      <td>js41637</td>\n",
       "      <td>227300</td>\n",
       "      <td>2</td>\n",
       "      <td>NaN</td>\n",
       "    </tr>\n",
       "    <tr>\n",
       "      <th>...</th>\n",
       "      <td>...</td>\n",
       "      <td>...</td>\n",
       "      <td>...</td>\n",
       "      <td>...</td>\n",
       "    </tr>\n",
       "    <tr>\n",
       "      <th>325578</th>\n",
       "      <td>76561198251004808</td>\n",
       "      <td>253980</td>\n",
       "      <td>2</td>\n",
       "      <td>Enclave</td>\n",
       "    </tr>\n",
       "    <tr>\n",
       "      <th>325579</th>\n",
       "      <td>76561198251004808</td>\n",
       "      <td>253980</td>\n",
       "      <td>2</td>\n",
       "      <td>Enclave</td>\n",
       "    </tr>\n",
       "    <tr>\n",
       "      <th>325580</th>\n",
       "      <td>72947282842</td>\n",
       "      <td>730</td>\n",
       "      <td>0</td>\n",
       "      <td>NaN</td>\n",
       "    </tr>\n",
       "    <tr>\n",
       "      <th>325581</th>\n",
       "      <td>ApxLGhost</td>\n",
       "      <td>730</td>\n",
       "      <td>2</td>\n",
       "      <td>NaN</td>\n",
       "    </tr>\n",
       "    <tr>\n",
       "      <th>325582</th>\n",
       "      <td>76561198267374962</td>\n",
       "      <td>369200</td>\n",
       "      <td>2</td>\n",
       "      <td>NaN</td>\n",
       "    </tr>\n",
       "  </tbody>\n",
       "</table>\n",
       "<p>325583 rows × 4 columns</p>\n",
       "</div>"
      ],
      "text/plain": [
       "                  User_Id      Id  Sentiment_Score App_Name\n",
       "0       76561197970982479    1250                2      NaN\n",
       "1       76561197970982479   22200                2      NaN\n",
       "2       76561197970982479   43110                2      NaN\n",
       "3                 js41637  251610                2      NaN\n",
       "4                 js41637  227300                2      NaN\n",
       "...                   ...     ...              ...      ...\n",
       "325578  76561198251004808  253980                2  Enclave\n",
       "325579  76561198251004808  253980                2  Enclave\n",
       "325580        72947282842     730                0      NaN\n",
       "325581          ApxLGhost     730                2      NaN\n",
       "325582  76561198267374962  369200                2      NaN\n",
       "\n",
       "[325583 rows x 4 columns]"
      ]
     },
     "execution_count": 32,
     "metadata": {},
     "output_type": "execute_result"
    }
   ],
   "source": [
    "df_reviews"
   ]
  },
  {
   "cell_type": "code",
   "execution_count": 33,
   "metadata": {},
   "outputs": [
    {
     "name": "stdout",
     "output_type": "stream",
     "text": [
      "Number of NaN values in 'App_Name' column: 34309\n"
     ]
    }
   ],
   "source": [
    "# Counting NaN values in 'App_Name' column after the merge\n",
    "nan_count = df_reviews['App_Name'].isna().sum()\n",
    "print(\"Number of NaN values in 'App_Name' column:\", nan_count)"
   ]
  },
  {
   "cell_type": "code",
   "execution_count": 34,
   "metadata": {},
   "outputs": [],
   "source": [
    "df_reviews.dropna(subset=['App_Name'], inplace=True)"
   ]
  },
  {
   "cell_type": "code",
   "execution_count": 35,
   "metadata": {},
   "outputs": [
    {
     "name": "stdout",
     "output_type": "stream",
     "text": [
      "Number of NaN values in 'App_Name' column: 0\n"
     ]
    }
   ],
   "source": [
    "# Counting NaN values in 'App_Name' column after the merge\n",
    "nan_count = df_reviews['App_Name'].isna().sum()\n",
    "print(\"Number of NaN values in 'App_Name' column:\", nan_count)"
   ]
  },
  {
   "cell_type": "code",
   "execution_count": 36,
   "metadata": {},
   "outputs": [
    {
     "name": "stdout",
     "output_type": "stream",
     "text": [
      "Number of duplicated rows in the dataframe: 277085\n"
     ]
    }
   ],
   "source": [
    "# Counting duplicates in the entire dataframe\n",
    "duplicates_count = df_reviews.duplicated().sum()\n",
    "print(\"Number of duplicated rows in the dataframe:\", duplicates_count)"
   ]
  },
  {
   "cell_type": "code",
   "execution_count": 37,
   "metadata": {},
   "outputs": [],
   "source": [
    "df_reviews = df_reviews.drop_duplicates()"
   ]
  },
  {
   "cell_type": "code",
   "execution_count": 38,
   "metadata": {},
   "outputs": [
    {
     "data": {
      "text/html": [
       "<div>\n",
       "<style scoped>\n",
       "    .dataframe tbody tr th:only-of-type {\n",
       "        vertical-align: middle;\n",
       "    }\n",
       "\n",
       "    .dataframe tbody tr th {\n",
       "        vertical-align: top;\n",
       "    }\n",
       "\n",
       "    .dataframe thead th {\n",
       "        text-align: right;\n",
       "    }\n",
       "</style>\n",
       "<table border=\"1\" class=\"dataframe\">\n",
       "  <thead>\n",
       "    <tr style=\"text-align: right;\">\n",
       "      <th></th>\n",
       "      <th>User_Id</th>\n",
       "      <th>Id</th>\n",
       "      <th>Sentiment_Score</th>\n",
       "      <th>App_Name</th>\n",
       "    </tr>\n",
       "  </thead>\n",
       "  <tbody>\n",
       "    <tr>\n",
       "      <th>5</th>\n",
       "      <td>js41637</td>\n",
       "      <td>239030</td>\n",
       "      <td>2</td>\n",
       "      <td>Papers Please</td>\n",
       "    </tr>\n",
       "  </tbody>\n",
       "</table>\n",
       "</div>"
      ],
      "text/plain": [
       "   User_Id      Id  Sentiment_Score       App_Name\n",
       "5  js41637  239030                2  Papers Please"
      ]
     },
     "execution_count": 38,
     "metadata": {},
     "output_type": "execute_result"
    }
   ],
   "source": [
    "df_reviews.head(1)"
   ]
  },
  {
   "cell_type": "code",
   "execution_count": 39,
   "metadata": {},
   "outputs": [
    {
     "name": "stdout",
     "output_type": "stream",
     "text": [
      "<class 'pandas.core.frame.DataFrame'>\n",
      "Index: 14189 entries, 5 to 325577\n",
      "Data columns (total 4 columns):\n",
      " #   Column           Non-Null Count  Dtype \n",
      "---  ------           --------------  ----- \n",
      " 0   User_Id          14189 non-null  object\n",
      " 1   Id               14189 non-null  object\n",
      " 2   Sentiment_Score  14189 non-null  int64 \n",
      " 3   App_Name         14189 non-null  object\n",
      "dtypes: int64(1), object(3)\n",
      "memory usage: 554.3+ KB\n"
     ]
    }
   ],
   "source": [
    "df_reviews.info()"
   ]
  },
  {
   "cell_type": "code",
   "execution_count": 44,
   "metadata": {},
   "outputs": [
    {
     "data": {
      "text/html": [
       "<div>\n",
       "<style scoped>\n",
       "    .dataframe tbody tr th:only-of-type {\n",
       "        vertical-align: middle;\n",
       "    }\n",
       "\n",
       "    .dataframe tbody tr th {\n",
       "        vertical-align: top;\n",
       "    }\n",
       "\n",
       "    .dataframe thead th {\n",
       "        text-align: right;\n",
       "    }\n",
       "</style>\n",
       "<table border=\"1\" class=\"dataframe\">\n",
       "  <thead>\n",
       "    <tr style=\"text-align: right;\">\n",
       "      <th></th>\n",
       "      <th>User_Id</th>\n",
       "      <th>Id</th>\n",
       "      <th>Sentiment_Score</th>\n",
       "      <th>App_Name</th>\n",
       "    </tr>\n",
       "  </thead>\n",
       "  <tbody>\n",
       "    <tr>\n",
       "      <th>5</th>\n",
       "      <td>js41637</td>\n",
       "      <td>239030</td>\n",
       "      <td>2</td>\n",
       "      <td>Papers Please</td>\n",
       "    </tr>\n",
       "    <tr>\n",
       "      <th>19</th>\n",
       "      <td>evcentric</td>\n",
       "      <td>263360</td>\n",
       "      <td>2</td>\n",
       "      <td>Futuristic Action Rpg</td>\n",
       "    </tr>\n",
       "    <tr>\n",
       "      <th>30</th>\n",
       "      <td>doctr</td>\n",
       "      <td>250320</td>\n",
       "      <td>2</td>\n",
       "      <td>The Wolf Among Us</td>\n",
       "    </tr>\n",
       "    <tr>\n",
       "      <th>35</th>\n",
       "      <td>doctr</td>\n",
       "      <td>224600</td>\n",
       "      <td>2</td>\n",
       "      <td>Defiance</td>\n",
       "    </tr>\n",
       "    <tr>\n",
       "      <th>60</th>\n",
       "      <td>maplemage</td>\n",
       "      <td>204300</td>\n",
       "      <td>2</td>\n",
       "      <td>Awesomenauts The D Moba</td>\n",
       "    </tr>\n",
       "    <tr>\n",
       "      <th>...</th>\n",
       "      <td>...</td>\n",
       "      <td>...</td>\n",
       "      <td>...</td>\n",
       "      <td>...</td>\n",
       "    </tr>\n",
       "    <tr>\n",
       "      <th>325483</th>\n",
       "      <td>01shan</td>\n",
       "      <td>440</td>\n",
       "      <td>2</td>\n",
       "      <td>Team Fortress</td>\n",
       "    </tr>\n",
       "    <tr>\n",
       "      <th>325509</th>\n",
       "      <td>76561198236893796</td>\n",
       "      <td>383580</td>\n",
       "      <td>2</td>\n",
       "      <td>Flesh Eaters</td>\n",
       "    </tr>\n",
       "    <tr>\n",
       "      <th>325524</th>\n",
       "      <td>76561198236893796</td>\n",
       "      <td>440</td>\n",
       "      <td>2</td>\n",
       "      <td>Team Fortress</td>\n",
       "    </tr>\n",
       "    <tr>\n",
       "      <th>325550</th>\n",
       "      <td>pigeonie</td>\n",
       "      <td>440</td>\n",
       "      <td>2</td>\n",
       "      <td>Team Fortress</td>\n",
       "    </tr>\n",
       "    <tr>\n",
       "      <th>325577</th>\n",
       "      <td>76561198251004808</td>\n",
       "      <td>253980</td>\n",
       "      <td>2</td>\n",
       "      <td>Enclave</td>\n",
       "    </tr>\n",
       "  </tbody>\n",
       "</table>\n",
       "<p>14189 rows × 4 columns</p>\n",
       "</div>"
      ],
      "text/plain": [
       "                  User_Id      Id  Sentiment_Score                 App_Name\n",
       "5                 js41637  239030                2            Papers Please\n",
       "19              evcentric  263360                2    Futuristic Action Rpg\n",
       "30                  doctr  250320                2        The Wolf Among Us\n",
       "35                  doctr  224600                2                 Defiance\n",
       "60              maplemage  204300                2  Awesomenauts The D Moba\n",
       "...                   ...     ...              ...                      ...\n",
       "325483             01shan     440                2            Team Fortress\n",
       "325509  76561198236893796  383580                2             Flesh Eaters\n",
       "325524  76561198236893796     440                2            Team Fortress\n",
       "325550           pigeonie     440                2            Team Fortress\n",
       "325577  76561198251004808  253980                2                  Enclave\n",
       "\n",
       "[14189 rows x 4 columns]"
      ]
     },
     "execution_count": 44,
     "metadata": {},
     "output_type": "execute_result"
    }
   ],
   "source": [
    "df_reviews.loc[:, 'App_Name'] = df_reviews['App_Name'].astype(str)\n",
    "df_reviews"
   ]
  },
  {
   "cell_type": "code",
   "execution_count": 43,
   "metadata": {},
   "outputs": [],
   "source": [
    "df = df_reviews\n",
    "df.to_parquet('ML_data/ML_function/df_ML.gzip')"
   ]
  }
 ],
 "metadata": {
  "kernelspec": {
   "display_name": "Python 3",
   "language": "python",
   "name": "python3"
  },
  "language_info": {
   "codemirror_mode": {
    "name": "ipython",
    "version": 3
   },
   "file_extension": ".py",
   "mimetype": "text/x-python",
   "name": "python",
   "nbconvert_exporter": "python",
   "pygments_lexer": "ipython3",
   "version": "3.11.4"
  }
 },
 "nbformat": 4,
 "nbformat_minor": 2
}
